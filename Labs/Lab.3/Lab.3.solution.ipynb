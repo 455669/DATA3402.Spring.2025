{
 "cells": [
  {
   "cell_type": "markdown",
   "metadata": {},
   "source": [
    "# Lab 3\n",
    "\n",
    "In this lab we will become familiar with distributions, histograms, and functional programming. Do not use numpy or any other library for this lab.\n",
    "\n",
    "Before that, lets get setup homework submission and submit your previous lab.  \n",
    "\n",
    "## Working on the Command-line.\n",
    "\n",
    "It is important for you to learn to work on the command line and to be familiar with the Unix environment (e.g. Linux, Mac OS, or Windows Linux Subsystem). We'll go over working on the command-line in detail later in the course.\n",
    "\n",
    "You are required to submit your work in this course via GitHub. Today in class, you will setup everything on the command-line.\n",
    "\n",
    "### Command-line basics\n",
    "\n",
    "There is plenty of material online that will help you figure out how to do various tasks on the command line. Commands you may need to know today:\n",
    "\n",
    "* `ls`: lists the contents of the current directory.\n",
    "* `pwd`: prints the path of the current directory.\n",
    "* `cd <directory>`: changes your current directory to the specified directory.\n",
    "* `cd ..`: changes current directory to the previous directory. Basically steps out of the current directory to the directory containing the current directory.\n",
    "* `mkdir <directory>`: create a new directory with the specified name.\n",
    "* `rmdir <directory>`: removes the specified directory. Note it has to be empty.\n",
    "* `rm <filename>`: deletes the specified file.\n",
    "* `mv <filename 1> <filename 2>`: Moves or renames a file.\n",
    "* `cp <filename 1> <filename 2>`: copies an file. If you just provide a path to a directory, it copies the file into that directory with the same filename. If you specifiy a new filename, the copy has a new name. For example `cp File.1.txt File.2.txt` creates a copy of `File.1.txt` with the name `File.2.txt`. Meanwhile `cp File.1.txt my_directory`, where `my_directory` is a directory, creates a copy of `File.1.txt` in directory `my_directory` with the name `File.1.txt`.\n",
    "\n",
    "For reference, here are some example resources I found by googling:\n",
    "\n",
    "* Paths and Wildcards: https://www.warp.dev/terminus/linux-wildcards\n",
    "* Basic commands like copy: https://kb.iu.edu/d/afsk\n",
    "* General introduction to shell: https://github-pages.ucl.ac.uk/RCPSTrainingMaterials/HPCandHTCusingLegion/2_intro_to_shell.html\n",
    "* Manual pages: https://www.geeksforgeeks.org/linux-man-page-entries-different-types/?ref=ml_lbp\n",
    "* Chaining commands: https://www.geeksforgeeks.org/chaining-commands-in-linux/?ref=ml_lbp\n",
    "* Piping: https://www.geeksforgeeks.org/piping-in-unix-or-linux/\n",
    "* Using sed: https://www.geeksforgeeks.org/sed-command-linux-set-2/?ref=ml_lbp\n",
    "* Various Unix commands: https://www.geeksforgeeks.org/linux-commands/?ref=lbp\n",
    "* Cheat sheets:\n",
    "    * https://www.stationx.net/unix-commands-cheat-sheet/\n",
    "    * https://cheatography.com/davechild/cheat-sheets/linux-command-line/\n",
    "    * https://www.theknowledgeacademy.com/blog/unix-commands-cheat-sheet/\n",
    "    \n",
    "These aren't necessarily the best resources. Feel free to search for better ones. Also, don't forget that Unix has built-in manual pages for all of its commands. Just type `man <command>` at the command prompt. Use the space-bar to scroll through the documentation and \"q\" to exit.\n",
    "\n",
    "\n",
    "### Setup and Submission\n",
    "\n",
    "Our course repository is public. The instructions here aim to have you setup a fork of the course repository. Unfortunately because you are forking a public repo, your fork will have to be public also. \n",
    "\n",
    "You should be familiar with git from the first semester of this course. I assume that you all have github accounts and have setup things to be able to [push to github using ssh](https://docs.github.com/en/github/authenticating-to-github/connecting-to-github-with-ssh). The instuctions here lead you to:\n",
    "\n",
    "We'll overview what you will do before going through step by step instructions.\n",
    "\n",
    "1. Setup:\n",
    "    1. Fork the class repository. Some directions in [fork-a-repo](https://docs.github.com/en/github/getting-started-with-github/fork-a-repo).\n",
    "    1. Create a directory on your personal system where you will keep all course materials.\n",
    "    1. In that directory, clone your fork of the repository.\n",
    "    1. Using `git remote`, set the upstream to be the class repo, so you can pull from the class and push to your fork.\n",
    "\n",
    "1. Submission:\n",
    "    1. Copy your solutions into the appropriate directory (e.g. into `Labs/Lab.2/`) and with appropriate filename `Lab.2.solution.ipynb'.\n",
    "    1. Commit / push your solutions.\n",
    " \n",
    "Below are step by step instructions with examples (including example directory naming convention). Feel free to modify things as you see fit. \n",
    "\n",
    "#### Setup\n",
    "You should only need to follow this instructions once. Here are some useful git commands:\n",
    "\n",
    "* Git help: `git help`\n",
    "* Git remote help: `git help remote`\n",
    "* Check remote status: `git remote -v`\n",
    "* Add a remote: `git remote add <stream name> <repo URL>`\n",
    "* Add a remove: `git remote remove <stream name>`\n",
    "\n",
    "Steps:\n",
    "1. In a browser, log into GitHub and navigate to the [course repository](https://github.com/UTA-DataScience/DATA3402.Spring.2025).\n",
    "1. On the top right of the page, press the fork button to create a new fork into your own GitHub account.\n",
    "1. After successful fork, you should find the browser showing your fork of the course repository. Use the green \"Code\" button to copy path to the repo into your the clipboard of your computer.\n",
    "1. Open a shell on your personal computer.\n",
    "1. If you have not done so already, create a new directory/folder where you will keep all course material to navigate to it. For example: `mkdir Data-3402` and `cd Data-3402`.\n",
    "1. Clone your fork of the repository using `git clone` followed by the path you copied into your clipboard. (copy/paste)\n",
    "1. Paste the URL to your fork in the worksheet for the TAs and instructors.\n",
    "1. Now go into the directory of your clone (`cd DATA3402.Spring.2025`).\n",
    "1. Type `git remote -v` to see the current setup for fetch and pull.\n",
    "1. Note the URL you see. This should be the same as what you used for your clone for both push and fetch.\n",
    "1. Delete the origin remote using `git remote remove origin`.\n",
    "1. Add the course repo as your remote using `git remote add origin https://github.com/UTA-DataScience/DATA3402.Spring.2025.git`.\n",
    "1. Change the push to point to your fork. This means you will need the URL to your clone we copied earlier and confirmed as the original origin. The command will look something like: `git remote set-url --push origin  https://github.com/XXXXXX/DATA3402.Spring.2025.git`, where XXXXX is your username on GitHub.\n",
    "1. Note that if you setup everything correctly, you now should be able to do `git pull` to get updates from the course repo, and do `git push` to push your commits into your own fork.\n",
    "\n",
    "### Submission\n",
    "These instructions outline how you submit files. Some useful commands:\n",
    "* To add a file to local repository: `git add <file>`.\n",
    "* To commit all changed files into local repository: `git -a -m \"A message\"`. You need to provide some comment when you commit. \n",
    "* To push the commited files from the local repository to GitHub: `git push`.\n",
    "* To get updates from GitHub: `git pull`.\n",
    "\n",
    "Steps:\n",
    "1. To submit your labs, navigate to your clone of your fork of the course repository. \n",
    "1. Use `git pull` to make sure you have the latest updates. \n",
    "1. Make sure your copy of the lab your are working on is in the appropriate place in this clone. That means if you have the file elsewhere, copy it to the same directory in your clone of your fork. \n",
    "1. Note that in order to avoid future conflicts, you should always name your solution differently than the original file in the class repo. For example if your file is still named `Lab.2.ipynb` you should rename it using the `mv` command: `mv Lab.2.ipynb Lab.2.solution.ipynb`. \n",
    "1. Add and files you wish to submit into the repo. For example: `git add Labs/Lab.2/Lab.2.solution.ipynb`\n",
    "1. Commit any changes: `git commit -a -m \"Lab 2 updates\"`\n",
    "1. Push your changes: `git push`\n",
    "1. Check on github website that your solutions have been properly submitted.\n",
    "\n",
    "Before you leave the session today, make sure your GitHub Repo is setup. If you need to work further on your lab, navigate jupyter to the copy of the lab you just submitted and work there. Once done, repeat the commit and push commands to submit your updated solution. Note that lab 2 is due by midnight Friay 1/31/2025.\n"
   ]
  },
  {
   "cell_type": "markdown",
   "metadata": {},
   "source": [
    "### Uniform Distribution\n",
    "Lets start with generating some fake random data. You can get a random number between 0 and 1 using the python random module as follow:"
   ]
  },
  {
   "cell_type": "code",
   "execution_count": 1,
   "metadata": {},
   "outputs": [
    {
     "name": "stdout",
     "output_type": "stream",
     "text": [
      "The Value of x is 0.5623630210890777\n"
     ]
    }
   ],
   "source": [
    "import random\n",
    "x=random.random()\n",
    "print(\"The Value of x is\", x)"
   ]
  },
  {
   "cell_type": "markdown",
   "metadata": {},
   "source": [
    "Everytime you call random, you will get a new number.\n",
    "\n",
    "*Exercise 1:* Using random, write a function `generate_uniform(N, mymin, mymax)`, that returns a python list containing N random numbers between specified minimum and maximum value. Note that you may want to quickly work out on paper how to turn numbers between 0 and 1 to between other values. "
   ]
  },
  {
   "cell_type": "code",
   "execution_count": 2,
   "metadata": {},
   "outputs": [],
   "source": [
    "# Skeleton\n",
    "def generate_uniform(N,x_min,x_max):\n",
    "    out = []\n",
    "    ### BEGIN SOLUTION\n",
    "    multi=x_max-x_min   #get a random number using this and add it to the minimum number\n",
    "    for i in range(N):\n",
    "        \n",
    "        x=random.random()\n",
    "        completed_num = ((x*multi)+x_min)\n",
    "        out.append(completed_num)\n",
    "       #print(\"The Value of x is\", completed_num)   #for testing\n",
    "    \n",
    "    \n",
    "    \n",
    "    ### END SOLUTION\n",
    "    return out"
   ]
  },
  {
   "cell_type": "code",
   "execution_count": 3,
   "metadata": {},
   "outputs": [
    {
     "name": "stdout",
     "output_type": "stream",
     "text": [
      "Data Type: <class 'list'>\n",
      "Data Length: 1000\n",
      "Type of Data Contents: <class 'float'>\n",
      "Data Minimum: -9.9883339269787\n",
      "Data Maximum: 9.969391686303382\n"
     ]
    }
   ],
   "source": [
    "# Test your solution here\n",
    "data=generate_uniform(1000,-10,10)\n",
    "print (\"Data Type:\", type(data))\n",
    "print (\"Data Length:\", len(data))\n",
    "if len(data)>0: \n",
    "    print (\"Type of Data Contents:\", type(data[0]))\n",
    "    print (\"Data Minimum:\", min(data))\n",
    "    print (\"Data Maximum:\", max(data))"
   ]
  },
  {
   "cell_type": "markdown",
   "metadata": {},
   "source": [
    "*Exercise 2a:* \n",
    "Write a function that computes the mean of values in a list. Recall the equation for the mean of a random variable $\\bf{x}$ computed on a data set of $n$ values $\\{ x_i \\} = \\{x_1, x_2, ..., x_n\\}$  is ${\\bf\\bar{x}} = \\frac{1}{n} \\sum_i^n x_i$."
   ]
  },
  {
   "cell_type": "code",
   "execution_count": 4,
   "metadata": {},
   "outputs": [],
   "source": [
    "# Skeleton\n",
    "def mean(Data):\n",
    "    m = 0.0 #mean is float\n",
    "    divisor = len(Data)\n",
    "    for i in Data:\n",
    "        m += i\n",
    "    m = m / divisor\n",
    "    return m"
   ]
  },
  {
   "cell_type": "code",
   "execution_count": 5,
   "metadata": {},
   "outputs": [
    {
     "name": "stdout",
     "output_type": "stream",
     "text": [
      "Mean of Data: 0.08483635409513994\n"
     ]
    }
   ],
   "source": [
    "# Test your solution here\n",
    "print (\"Mean of Data:\", mean(data))"
   ]
  },
  {
   "cell_type": "markdown",
   "metadata": {},
   "source": [
    "*Exercise 2b:* \n",
    "Write a function that computes the variance of values in a list. Recall the equation for the variance of a random variable $\\bf{x}$ computed on a data set of $n$ values $\\{ x_i \\} = \\{x_1, x_2, ..., x_n\\}$  is ${\\bf\\langle x \\rangle} = \\frac{1}{n} \\sum_i^n (x_i - {\\bf\\bar{x}})$."
   ]
  },
  {
   "cell_type": "code",
   "execution_count": 6,
   "metadata": {},
   "outputs": [],
   "source": [
    "# Skeleton\n",
    "def variance(Data):\n",
    "    m=0.\n",
    "    avg=mean(Data)\n",
    "    ### BEGIN SOLUTION\n",
    "    for i in Data:\n",
    "        m += (i - avg)**2  #variance math\n",
    "                        \n",
    "    m = m / len(Data)  # no n-1, thats for a sample #we do this at the end \n",
    "    \n",
    "\n",
    "        #print(i)\n",
    "    print(len(Data))\n",
    "    # Fill in your solution here        \n",
    "    \n",
    "    ### END SOLUTION\n",
    "    \n",
    "    return m"
   ]
  },
  {
   "cell_type": "code",
   "execution_count": 7,
   "metadata": {},
   "outputs": [
    {
     "name": "stdout",
     "output_type": "stream",
     "text": [
      "1000\n",
      "Variance of Data: 33.15003406427288\n"
     ]
    }
   ],
   "source": [
    "# Test your solution here\n",
    "print (\"Variance of Data:\", variance(data))"
   ]
  },
  {
   "cell_type": "markdown",
   "metadata": {},
   "source": [
    "## Histogramming"
   ]
  },
  {
   "cell_type": "markdown",
   "metadata": {},
   "source": [
    "*Exercise 3:* Write a function that bins the data so that you can create a histogram. An example of how to implement histogramming is the following logic:\n",
    "\n",
    "* User inputs a list of values `x` and optionally `n_bins` which defaults to 10.\n",
    "* If not supplied, find the minimum and maximum (`x_min`,`x_max`) of the values in x.\n",
    "* Determine the bin size (`bin_size`) by dividing the range of the function by the number of bins.\n",
    "* Create an empty list of zeros of size `n_bins`, call it `hist`.\n",
    "* Loop over the values in `x`\n",
    "    * Loop over the values in `hist` with index `i`:\n",
    "        * If x is between `x_min+i*bin_size` and `x_min+(i+1)*bin_size`, increment `hist[i].` \n",
    "        * For efficiency, try to use continue to goto the next bin and data point.\n",
    "* Return `hist` and the list corresponding of the bin edges (i.e. of `x_min+i*bin_size`).    "
   ]
  },
  {
   "cell_type": "code",
   "execution_count": 8,
   "metadata": {},
   "outputs": [],
   "source": [
    "# Solution\n",
    "def histogram(x,n_bins=10,x_min=None,x_max=None):\n",
    "    ### BEGIN SOLUTION\n",
    "    #hist=0 #testing\n",
    "    bin_edges=[] #testing\n",
    "    \n",
    "    if x_min == None:   #find smallest x_min\n",
    "        x_min=x[0]\n",
    "        for i in x:\n",
    "            if i<x_min:\n",
    "                x_min=i\n",
    "                \n",
    "    if x_max == None:   #find largest x_max\n",
    "        x_max=x[0]\n",
    "        for i in x:\n",
    "            if i>x_max:\n",
    "                x_max=i\n",
    "                \n",
    "    #print(x_min) #testing\n",
    "    #print(x_max) #testing\n",
    "    function_range =x_max-x_min #range of the function\n",
    "    \n",
    "    bin_size= function_range/n_bins\n",
    "    #print(bin_size) #testing\n",
    "            \n",
    "    hist=[]\n",
    "    #print(n_bins) testing\n",
    "    for i in range(n_bins): #make list of zeros\n",
    "        hist.append(0)\n",
    "\n",
    "    for i in range(n_bins+1):  \n",
    "        edge = (x_min + (i * bin_size)) \n",
    "        bin_edges.append(edge) #add the numbr to the list\n",
    "\n",
    "    for k in x:\n",
    "        for i in range(n_bins):\n",
    "            if (x_min+i*bin_size) <= k < (x_min+(i+1)*bin_size):\n",
    "                hist[i] += 1\n",
    "                break \n",
    "            elif i == n_bins - 1 and k == x_max: #make sure the max value is included\n",
    "                hist[i] += 1\n",
    "                break\n",
    "            else:\n",
    "                continue #saves loop time\n",
    "    \n",
    "        \n",
    "           \n",
    "    #for k  in x: #testing\n",
    "     #   for i in hist:\n",
    "      #      if (k>(x_min+i*bin_size)) and (k<(x_min+(i+1)*bin_size)):\n",
    "       #         hist[i]+=1\n",
    "                \n",
    "    \n",
    "    ### END SOLUTION\n",
    "\n",
    "    return hist,bin_edges"
   ]
  },
  {
   "cell_type": "code",
   "execution_count": 9,
   "metadata": {},
   "outputs": [
    {
     "name": "stdout",
     "output_type": "stream",
     "text": [
      "[11, 7, 13, 14, 8, 11, 6, 8, 10, 7, 11, 12, 13, 10, 7, 7, 8, 8, 7, 7, 10, 11, 9, 13, 15, 11, 16, 13, 7, 14, 7, 3, 11, 9, 10, 11, 5, 2, 8, 12, 8, 12, 14, 11, 8, 13, 6, 12, 12, 11, 15, 12, 14, 15, 3, 10, 14, 10, 6, 8, 11, 15, 13, 10, 6, 14, 7, 11, 11, 5, 9, 5, 11, 14, 9, 6, 11, 8, 12, 9, 12, 9, 14, 7, 10, 12, 9, 15, 11, 4, 8, 8, 8, 10, 14, 11, 13, 10, 8, 14]\n",
      "[-9.9883339269787, -9.78875667084588, -9.58917941471306, -9.389602158580239, -9.190024902447417, -8.990447646314596, -8.790870390181777, -8.591293134048955, -8.391715877916134, -8.192138621783313, -7.992561365650492, -7.792984109517672, -7.593406853384851, -7.39382959725203, -7.19425234111921, -6.994675084986389, -6.795097828853567, -6.595520572720747, -6.3959433165879265, -6.196366060455105, -5.996788804322284, -5.7972115481894635, -5.597634292056643, -5.398057035923822, -5.198479779791001, -4.99890252365818, -4.79932526752536, -4.599748011392538, -4.400170755259718, -4.200593499126897, -4.001016242994076, -3.801438986861255, -3.6018617307284346, -3.4022844745956142, -3.202707218462793, -3.0031299623299725, -2.8035527061971512, -2.603975450064331, -2.4043981939315096, -2.204820937798689, -2.005243681665868, -1.8056664255330475, -1.6060891694002262, -1.4065119132674049, -1.2069346571345854, -1.007357401001764, -0.8077801448689428, -0.6082028887361215, -0.408625632603302, -0.2090483764704807, -0.0094711203376594, 0.1901061357951601, 0.3896833919279814, 0.5892606480608027, 0.788837904193624, 0.9884151603264435, 1.1879924164592648, 1.387569672592086, 1.5871469287249074, 1.7867241848577269, 1.9863014409905482, 2.1858786971233695, 2.3854559532561908, 2.5850332093890103, 2.7846104655218316, 2.984187721654653, 3.1837649777874724, 3.3833422339202937, 3.582919490053115, 3.7824967461859362, 3.9820740023187557, 4.181651258451577, 4.381228514584398, 4.58080577071722, 4.780383026850039, 4.97996028298286, 5.179537539115682, 5.379114795248503, 5.5786920513813225, 5.778269307514144, 5.977846563646965, 6.177423819779786, 6.377001075912606, 6.576578332045425, 6.7761555881782485, 6.975732844311068, 7.175310100443891, 7.374887356576711, 7.57446461270953, 7.774041868842353, 7.973619124975173, 8.173196381107992, 8.372773637240815, 8.572350893373635, 8.771928149506458, 8.971505405639277, 9.171082661772097, 9.37065991790492, 9.57023717403774, 9.769814430170559, 9.969391686303382]\n"
     ]
    }
   ],
   "source": [
    "# Test your solution here\n",
    "h,b=histogram(data,100)\n",
    "print(h)\n",
    "print(b)"
   ]
  },
  {
   "cell_type": "markdown",
   "metadata": {},
   "source": [
    "*Exercise 4:* Write a function that uses the histogram function in the previous exercise to create a text-based \"graph\". For example the output could look like the following:\n",
    "```\n",
    "[  0,  1] : ######\n",
    "[  1,  2] : #####\n",
    "[  2,  3] : ######\n",
    "[  3,  4] : ####\n",
    "[  4,  5] : ####\n",
    "[  5,  6] : ######\n",
    "[  6,  7] : #####\n",
    "[  7,  8] : ######\n",
    "[  8,  9] : ####\n",
    "[  9, 10] : #####\n",
    "```\n",
    "\n",
    "Where each line corresponds to a bin and the number of `#`'s are proportional to the value of the data in the bin. "
   ]
  },
  {
   "cell_type": "code",
   "execution_count": 10,
   "metadata": {},
   "outputs": [],
   "source": [
    "# Solution\n",
    "def draw_histogram(x,n_bins,x_min=None,x_max=None,character=\"#\",max_character_per_line=20):\n",
    "    ### BEGIN SOLUTION\n",
    "\n",
    "    hist, bin_edges = histogram(x,n_bins,x_min,x_max) #get our histogram info\n",
    "    \n",
    "    for i in range(n_bins):\n",
    "        start = bin_edges[i]\n",
    "        end = bin_edges[i+1]\n",
    "        counter = hist[i]\n",
    "\n",
    "    \n",
    "        length = int(round((counter / max(hist)) * max_character_per_line)) #gives int for the bar lengths\n",
    "\n",
    "\n",
    "        bar_lines = character * length #create the # bar lines\n",
    "        print(f\"[{start}, {end}): {bar_lines}\")\n",
    "\n",
    "    #print(\"END\") testing\n",
    "    ### END SOLUTION\n",
    "    return hist,bin_edges"
   ]
  },
  {
   "cell_type": "code",
   "execution_count": 11,
   "metadata": {},
   "outputs": [
    {
     "name": "stdout",
     "output_type": "stream",
     "text": [
      "[-9.9883339269787, -8.990447646314596): #################\n",
      "[-8.990447646314596, -7.992561365650492): ##############\n",
      "[-7.992561365650492, -6.994675084986389): #################\n",
      "[-6.994675084986389, -5.996788804322284): ############\n",
      "[-5.996788804322284, -4.99890252365818): ###################\n",
      "[-4.99890252365818, -4.001016242994076): ####################\n",
      "[-4.001016242994076, -3.0031299623299716): #############\n",
      "[-3.0031299623299716, -2.005243681665868): ############\n",
      "[-2.005243681665868, -1.007357401001764): #################\n",
      "[-1.007357401001764, -0.0094711203376594): ##################\n",
      "[-0.0094711203376594, 0.9884151603264453): ###################\n",
      "[0.9884151603264453, 1.9863014409905482): ################\n",
      "[1.9863014409905482, 2.984187721654653): ##################\n",
      "[2.984187721654653, 3.9820740023187575): ################\n",
      "[3.9820740023187575, 4.97996028298286): ################\n",
      "[4.97996028298286, 5.977846563646965): ###############\n",
      "[5.977846563646965, 6.975732844311068): #################\n",
      "[6.975732844311068, 7.973619124975173): #################\n",
      "[7.973619124975173, 8.971505405639277): ################\n",
      "[8.971505405639277, 9.969391686303382): ##################\n"
     ]
    },
    {
     "data": {
      "text/plain": [
       "([53,\n",
       "  42,\n",
       "  53,\n",
       "  37,\n",
       "  58,\n",
       "  61,\n",
       "  40,\n",
       "  38,\n",
       "  53,\n",
       "  54,\n",
       "  59,\n",
       "  48,\n",
       "  55,\n",
       "  48,\n",
       "  48,\n",
       "  46,\n",
       "  52,\n",
       "  51,\n",
       "  48,\n",
       "  56],\n",
       " [-9.9883339269787,\n",
       "  -8.990447646314596,\n",
       "  -7.992561365650492,\n",
       "  -6.994675084986389,\n",
       "  -5.996788804322284,\n",
       "  -4.99890252365818,\n",
       "  -4.001016242994076,\n",
       "  -3.0031299623299716,\n",
       "  -2.005243681665868,\n",
       "  -1.007357401001764,\n",
       "  -0.0094711203376594,\n",
       "  0.9884151603264453,\n",
       "  1.9863014409905482,\n",
       "  2.984187721654653,\n",
       "  3.9820740023187575,\n",
       "  4.97996028298286,\n",
       "  5.977846563646965,\n",
       "  6.975732844311068,\n",
       "  7.973619124975173,\n",
       "  8.971505405639277,\n",
       "  9.969391686303382])"
      ]
     },
     "execution_count": 11,
     "metadata": {},
     "output_type": "execute_result"
    }
   ],
   "source": [
    "# Test your solution here\n",
    "h,b=histogram(data,20)\n",
    "draw_histogram(data, 20)"
   ]
  },
  {
   "cell_type": "markdown",
   "metadata": {},
   "source": [
    "## Functional Programming\n",
    "\n",
    "*Exercise 5:* Write a function the applies a booling function (that returns true/false) to every element in data, and return a list of indices of elements where the result was true. Use this function to find the indices of entries greater than 0.5. "
   ]
  },
  {
   "cell_type": "code",
   "execution_count": 12,
   "metadata": {},
   "outputs": [],
   "source": [
    "def where(mylist,myfunc):\n",
    "    out= []\n",
    "    \n",
    "    ### BEGIN SOLUTION\n",
    "    #for i in myList: #only gives the number\n",
    "            \n",
    "    for i in range(len(mylist)):  # i is index\n",
    "        num = mylist[i]   #gives number at the position i\n",
    "        if myfunc(num): #if true from fuction\n",
    "            out.append(i) #add index\n",
    "    \n",
    "    ### END SOLUTION\n",
    "    \n",
    "    return out"
   ]
  },
  {
   "cell_type": "code",
   "execution_count": 13,
   "metadata": {},
   "outputs": [
    {
     "name": "stdout",
     "output_type": "stream",
     "text": [
      "index with number > .5: [0, 3, 5, 9, 14, 15, 16, 17, 18, 20, 21, 24, 27, 29, 32, 34, 35, 40, 43, 44, 46, 50, 52, 53, 54, 55, 60, 61, 64, 67, 69, 70, 71, 72, 73, 75, 82, 83, 87, 88, 89, 91, 92, 94, 96, 99, 102, 105, 106, 107, 109, 110, 112, 114, 116, 120, 122, 123, 124, 134, 138, 144, 145, 146, 148, 150, 152, 155, 157, 158, 159, 160, 161, 163, 164, 165, 169, 170, 172, 173, 174, 175, 176, 179, 180, 181, 186, 187, 188, 191, 193, 195, 199, 201, 204, 205, 206, 208, 209, 214, 217, 218, 220, 221, 222, 231, 233, 234, 235, 236, 237, 238, 240, 241, 244, 247, 248, 249, 250, 251, 252, 254, 256, 259, 262, 265, 266, 268, 269, 271, 272, 273, 277, 282, 283, 284, 285, 287, 288, 290, 296, 297, 300, 301, 302, 307, 313, 316, 321, 322, 323, 326, 328, 329, 331, 333, 334, 335, 336, 338, 339, 340, 346, 351, 355, 357, 359, 360, 361, 362, 364, 365, 366, 367, 370, 375, 378, 379, 384, 385, 389, 390, 392, 393, 394, 395, 397, 398, 399, 400, 403, 407, 410, 411, 412, 414, 415, 417, 418, 419, 422, 424, 426, 428, 433, 434, 435, 436, 437, 438, 440, 441, 447, 450, 455, 458, 459, 461, 464, 465, 467, 469, 471, 472, 473, 474, 475, 476, 478, 479, 480, 482, 484, 485, 486, 491, 492, 493, 497, 500, 501, 503, 504, 505, 509, 511, 518, 520, 522, 524, 525, 526, 527, 531, 534, 535, 536, 537, 538, 539, 540, 541, 542, 543, 544, 547, 548, 550, 552, 557, 558, 561, 563, 564, 565, 566, 567, 570, 573, 574, 575, 578, 580, 584, 586, 587, 590, 591, 593, 594, 596, 598, 599, 601, 602, 604, 605, 606, 610, 614, 615, 618, 621, 622, 624, 628, 629, 630, 633, 639, 640, 641, 644, 647, 648, 649, 652, 658, 663, 665, 666, 667, 668, 669, 670, 673, 675, 676, 678, 679, 682, 684, 685, 689, 690, 691, 692, 693, 695, 696, 698, 699, 701, 702, 703, 704, 705, 709, 710, 712, 716, 719, 727, 729, 733, 737, 738, 740, 742, 747, 748, 749, 750, 757, 760, 765, 766, 767, 768, 769, 770, 771, 775, 776, 778, 780, 782, 786, 787, 789, 791, 793, 795, 796, 802, 803, 806, 810, 814, 815, 817, 818, 819, 821, 822, 823, 824, 825, 826, 828, 832, 833, 834, 836, 837, 841, 842, 843, 847, 848, 849, 850, 851, 852, 854, 858, 859, 860, 867, 869, 872, 873, 874, 876, 881, 882, 884, 887, 888, 890, 891, 894, 900, 904, 909, 910, 914, 915, 916, 917, 919, 920, 921, 922, 923, 924, 925, 927, 933, 934, 937, 940, 941, 944, 949, 953, 957, 960, 961, 964, 966, 967, 972, 983, 985, 986, 987, 988, 989, 990, 991, 996, 998, 999]\n",
      "index with number > .5: [1, 3]\n"
     ]
    }
   ],
   "source": [
    "# Test your solution here\n",
    "data2 = [.2, 7, -5, 77]\n",
    "def bigger(num): #number greater than .5\n",
    "    if num > .5:\n",
    "        return True\n",
    "    else:\n",
    "        return False\n",
    "\n",
    "p1 = where(data, bigger)\n",
    "print(\"index with number > .5:\", p1)\n",
    "\n",
    "p2 = where(data2, bigger)\n",
    "print(\"index with number > .5:\", p2)\n"
   ]
  },
  {
   "cell_type": "markdown",
   "metadata": {},
   "source": [
    "*Exercise 6:* The `inrange(mymin,mymax)` function below returns a function that tests if it's input is between the specified values. Write corresponding functions that test:\n",
    "* Even\n",
    "* Odd\n",
    "* Greater than\n",
    "* Less than\n",
    "* Equal\n",
    "* Divisible by"
   ]
  },
  {
   "cell_type": "code",
   "execution_count": 14,
   "metadata": {},
   "outputs": [
    {
     "name": "stdout",
     "output_type": "stream",
     "text": [
      "True True False False False\n",
      "False False True True False\n",
      "Number of Entries passing F1: 510\n",
      "Number of Entries passing F2: 0\n"
     ]
    }
   ],
   "source": [
    "def in_range(mymin,mymax):\n",
    "    def testrange(x):\n",
    "        return x<mymax and x>=mymin\n",
    "    return testrange\n",
    "\n",
    "# Examples:\n",
    "F1=in_range(0,10)\n",
    "F2=in_range(10,20)\n",
    "\n",
    "# Test of in_range\n",
    "print (F1(0), F1(1), F1(10), F1(15), F1(20))\n",
    "print (F2(0), F2(1), F2(10), F2(15), F2(20))\n",
    "\n",
    "print (\"Number of Entries passing F1:\", len(where(data,F1)))\n",
    "print (\"Number of Entries passing F2:\", len(where(data,F2)))"
   ]
  },
  {
   "cell_type": "code",
   "execution_count": 15,
   "metadata": {},
   "outputs": [],
   "source": [
    "### BEGIN SOLUTION\n",
    "\n",
    "def Even(x):\n",
    "    x=int(x)\n",
    "    if (x%2)==0: #gives 0 if number is even\n",
    "        return True\n",
    "    else:\n",
    "        return False\n",
    "      \n",
    "def Odd(x):\n",
    "    x=int(x)\n",
    "    if (x%2)!=0: #gives a remainder if number is odd\n",
    "        return True\n",
    "    else:\n",
    "        return False\n",
    "    \n",
    "def Greater(x):\n",
    "    def bigger(y):\n",
    "        return y > x #return true or false\n",
    "    return bigger #function is returned\n",
    "\n",
    "def Smaller(x):\n",
    "    def less(y):\n",
    "        return y < x #return true or false\n",
    "    return less #function is returned\n",
    "\n",
    "def Equal(x):\n",
    "    def same(y): #return true if same\n",
    "        return x == y\n",
    "    return same #return function\n",
    "\n",
    "def Divisible_by(x):\n",
    "    def divide(y):\n",
    "        y = int(y) #needed to do mod division\n",
    "        return y % x == 0 #checks to return true or false\n",
    "    return divide\n",
    "\n",
    "### END SOLUTION"
   ]
  },
  {
   "cell_type": "code",
   "execution_count": 16,
   "metadata": {},
   "outputs": [
    {
     "name": "stdout",
     "output_type": "stream",
     "text": [
      "even? True\n",
      "odd? False\n",
      "20 > 9? True\n",
      "20 < 6? False\n",
      "9=7? False\n",
      "8/4? True\n"
     ]
    }
   ],
   "source": [
    "# Test your solution\n",
    "\n",
    "print(\"even?\", Even(100))\n",
    "\n",
    "print(\"odd?\", Odd(88))\n",
    "\n",
    "greater_test = Greater(9) #give values for both nested functions\n",
    "print(\"20 > 9?\", greater_test(20))\n",
    "\n",
    "less_test = Smaller(6)\n",
    "print(\"20 < 6?\", less_test(20))\n",
    "\n",
    "equal_test = Equal(7)\n",
    "print(\"9=7?\", equal_test(9))\n",
    "\n",
    "divide_test = Divisible_by(4)\n",
    "print(\"8/4?\", divide_test(8))\n"
   ]
  },
  {
   "cell_type": "markdown",
   "metadata": {},
   "source": [
    "*Exercise 7:* Repeat the previous exercise using `lambda` and the built-in python functions sum and map instead of your solution above. "
   ]
  },
  {
   "cell_type": "code",
   "execution_count": 17,
   "metadata": {},
   "outputs": [
    {
     "name": "stdout",
     "output_type": "stream",
     "text": [
      "even? True\n",
      "odd? False\n",
      "20 > 9? True\n",
      "20 < 6? False\n",
      "9=7? False\n",
      "8/4? True\n"
     ]
    }
   ],
   "source": [
    "### BEGIN SOLUTION\n",
    "\n",
    "Even2 = lambda x: int(x) % 2 == 0 #x is the input for lambda\n",
    "Odd2 = lambda x: int(x) % 2 != 0\n",
    "Greater2 = lambda x: lambda y: y > x #my 2 inputs for lambda, boolean result\n",
    "Smaller2 = lambda x: lambda y: y < x\n",
    "Equal2 = lambda x: lambda y: x == y \n",
    "Divisible_by2 = lambda x: lambda y: int(y) % x == 0 #x divides because we check if its a good divisor\n",
    "\n",
    "    \n",
    "### END SOLUTION\n",
    "\n",
    "#Test\n",
    "\n",
    "print(\"even?\", Even2(100))\n",
    "\n",
    "print(\"odd?\", Odd2(88))\n",
    "\n",
    "greater_test = Greater2(9) #give values for both variables just like the nested functions\n",
    "print(\"20 > 9?\", greater_test(20))\n",
    "\n",
    "less_test = Smaller2(6)\n",
    "print(\"20 < 6?\", less_test(20))\n",
    "\n",
    "equal_test = Equal2(7)\n",
    "print(\"9=7?\", equal_test(9))\n",
    "\n",
    "divide_test = Divisible_by2(4)\n",
    "print(\"8/4?\", divide_test(8))"
   ]
  },
  {
   "cell_type": "markdown",
   "metadata": {},
   "source": [
    "## Monte Carlo\n",
    "\n",
    "*Exercise 7:* Write a \"generator\" function called `generate_function(func,x_min,x_max,N)`, that instead of generating a flat distribution, generates a distribution with functional form coded in `func`. Note that `func` will always be > 0.  \n",
    "\n",
    "Use the test function below and your histogramming functions above to demonstrate that your generator is working properly.\n",
    "\n",
    "Hint: A simple, but slow, solution is to a draw random number `test_x` within the specified range and another number `p` between the `min` and `max` of the function (which you will have to determine). If `p<=function(test_x)`, then place `test_x` on the output. If not, repeat the process, drawing two new numbers. Repeat until you have the specified number of generated numbers, `N`. For this problem, it's OK to determine the `min` and `max` by numerically sampling the function.  "
   ]
  },
  {
   "cell_type": "code",
   "execution_count": 18,
   "metadata": {},
   "outputs": [],
   "source": [
    "def generate_function(func,x_min,x_max,N=1000): #func \n",
    "    out = list()\n",
    "    \n",
    "    ### BEGIN SOLUTION\n",
    "    \n",
    "\n",
    "    nums = []\n",
    "    nums2=[]\n",
    "    for i in range(N):\n",
    "        #print(\"333\")\n",
    "        \n",
    "        x = x_min + (x_max - x_min) * random.random()\n",
    "        nums.append(x)\n",
    "\n",
    "    for j in nums:\n",
    "        k = func(j)\n",
    "        nums2.append(k)\n",
    "\n",
    "    min2 = nums2[0] #get our min\n",
    "    for l in nums2: \n",
    "        if l < min2:\n",
    "            min2 = l\n",
    "\n",
    "            \n",
    "    max2 = nums2[0] #look for the max\n",
    "    for a in nums2: \n",
    "        #print(\"333\")\n",
    "        \n",
    "        if a > max2:\n",
    "            max2 = a\n",
    "\n",
    "\n",
    "            \n",
    "    while len(out) < N:\n",
    "        #print(\"333\")\n",
    "        new_num = x_min + (x_max - x_min) * random.random()\n",
    "        \n",
    "        new_num2 = min2 + (max2 - min2) * random.random()\n",
    "\n",
    "        if new_num2 <= func(new_num):\n",
    "            out.append(new_num)\n",
    "\n",
    "    \n",
    "    ### END SOLUTION\n",
    "    \n",
    "    return out"
   ]
  },
  {
   "cell_type": "code",
   "execution_count": 19,
   "metadata": {},
   "outputs": [
    {
     "name": "stdout",
     "output_type": "stream",
     "text": [
      "[18.313424626954564, 56.56400957291769): #\n",
      "[56.56400957291769, 94.81459451888082): #\n",
      "[94.81459451888082, 133.06517946484394): ##\n",
      "[133.06517946484394, 171.31576441080708): ####\n",
      "[171.31576441080708, 209.5663493567702): ###\n",
      "[209.5663493567702, 247.81693430273333): #######\n",
      "[247.81693430273333, 286.06751924869644): #########\n",
      "[286.06751924869644, 324.31810419465955): #########\n",
      "[324.31810419465955, 362.56868914062267): #########\n",
      "[362.56868914062267, 400.8192740865858): #########\n",
      "[400.8192740865858, 439.06985903254895): ##########\n",
      "[439.06985903254895, 477.32044397851206): ###########\n",
      "[477.32044397851206, 515.5710289244752): #############\n",
      "[515.5710289244752, 553.8216138704383): #################\n",
      "[553.8216138704383, 592.0721988164014): ###############\n",
      "[592.0721988164014, 630.3227837623646): ################\n",
      "[630.3227837623646, 668.5733687083277): ####################\n",
      "[668.5733687083277, 706.8239536542908): ###################\n",
      "[706.8239536542908, 745.074538600254): ################\n",
      "[745.074538600254, 783.325123546217): ###################\n"
     ]
    },
    {
     "data": {
      "text/plain": [
       "([3,\n",
       "  7,\n",
       "  11,\n",
       "  21,\n",
       "  15,\n",
       "  32,\n",
       "  41,\n",
       "  45,\n",
       "  42,\n",
       "  44,\n",
       "  49,\n",
       "  54,\n",
       "  62,\n",
       "  79,\n",
       "  73,\n",
       "  74,\n",
       "  95,\n",
       "  89,\n",
       "  76,\n",
       "  88],\n",
       " [18.313424626954564,\n",
       "  56.56400957291769,\n",
       "  94.81459451888082,\n",
       "  133.06517946484394,\n",
       "  171.31576441080708,\n",
       "  209.5663493567702,\n",
       "  247.81693430273333,\n",
       "  286.06751924869644,\n",
       "  324.31810419465955,\n",
       "  362.56868914062267,\n",
       "  400.8192740865858,\n",
       "  439.06985903254895,\n",
       "  477.32044397851206,\n",
       "  515.5710289244752,\n",
       "  553.8216138704383,\n",
       "  592.0721988164014,\n",
       "  630.3227837623646,\n",
       "  668.5733687083277,\n",
       "  706.8239536542908,\n",
       "  745.074538600254,\n",
       "  783.325123546217])"
      ]
     },
     "execution_count": 19,
     "metadata": {},
     "output_type": "execute_result"
    }
   ],
   "source": [
    "# A test function\n",
    "def test_func(x,a=1,b=1):\n",
    "    return abs(a*x+b)\n",
    "\n",
    "\n",
    "x_min = 3\n",
    "x_max = 784\n",
    "N = 1000  #N already has defaut valule\n",
    "\n",
    "generated_data = generate_function(test_func, x_min, x_max, N)\n",
    "h,b=histogram(generated_data,20)\n",
    "draw_histogram(generated_data, 20)\n",
    "#print(generated_data) #testing"
   ]
  },
  {
   "cell_type": "markdown",
   "metadata": {},
   "source": [
    "*Exercise 8:* Use your function to generate 1000 numbers that are normal distributed, using the `gaussian` function below. Confirm the mean and variance of the data is close to the mean and variance you specify when building the Gaussian. Histogram the data. "
   ]
  },
  {
   "cell_type": "code",
   "execution_count": 20,
   "metadata": {},
   "outputs": [],
   "source": [
    "import math\n",
    "\n",
    "def gaussian(mean, sigma):\n",
    "    def f(x):\n",
    "        return math.exp(-((x-mean)**2)/(2*sigma**2))/math.sqrt(math.pi*sigma)\n",
    "    return f\n",
    "\n",
    "# Example Instantiation\n",
    "g1=gaussian(0,1)\n",
    "g2=gaussian(10,3)"
   ]
  },
  {
   "cell_type": "code",
   "execution_count": 21,
   "metadata": {},
   "outputs": [
    {
     "name": "stdout",
     "output_type": "stream",
     "text": [
      "1000\n",
      "1000\n",
      "Mean:  0\n",
      "Gaussian Mean:  -0.0420620879357056\n",
      "Variance:  1\n",
      "Gaussian Variance:  0.8893754362536267\n",
      "[-2.573540611135358, -2.3153594267508666): #\n",
      "[-2.3153594267508666, -2.0571782423663754): ###\n",
      "[-2.0571782423663754, -1.7989970579818844): ###\n",
      "[-1.7989970579818844, -1.5408158735973931): #####\n",
      "[-1.5408158735973931, -1.282634689212902): ######\n",
      "[-1.282634689212902, -1.024453504828411): ###########\n",
      "[-1.024453504828411, -0.7662723204439197): ###########\n",
      "[-0.7662723204439197, -0.5080911360594285): ###############\n",
      "[-0.5080911360594285, -0.24990995167493724): ####################\n",
      "[-0.24990995167493724, 0.008271232709553988): ####################\n",
      "[0.008271232709553988, 0.2664524170940452): #################\n",
      "[0.2664524170940452, 0.524633601478536): #################\n",
      "[0.524633601478536, 0.7828147858630272): ################\n",
      "[0.7828147858630272, 1.0409959702475184): ############\n",
      "[1.0409959702475184, 1.2991771546320097): #########\n",
      "[1.2991771546320097, 1.557358339016501): ######\n",
      "[1.557358339016501, 1.8155395234009921): ####\n",
      "[1.8155395234009921, 2.0737207077854833): ##\n",
      "[2.0737207077854833, 2.3319018921699746): #\n",
      "[2.3319018921699746, 2.590083076554466): #\n",
      "\n",
      "\n",
      "\n",
      "Mean:  10\n",
      "Gaussian Mean:  9.94079489777467\n",
      "Variance:  9\n",
      "Gaussian Variance:  8.692251489620542\n",
      "[2.2741308709293544, 3.072569338558631): #\n",
      "[3.072569338558631, 3.8710078061879076): ##\n",
      "[3.8710078061879076, 4.669446273817185): ###\n",
      "[4.669446273817185, 5.467884741446461): #####\n",
      "[5.467884741446461, 6.266323209075738): ######\n",
      "[6.266323209075738, 7.0647616767050145): ###########\n",
      "[7.0647616767050145, 7.863200144334291): #############\n",
      "[7.863200144334291, 8.661638611963568): ####################\n",
      "[8.661638611963568, 9.460077079592844): ###############\n",
      "[9.460077079592844, 10.258515547222121): #################\n",
      "[10.258515547222121, 11.056954014851398): #################\n",
      "[11.056954014851398, 11.855392482480674): #################\n",
      "[11.855392482480674, 12.65383095010995): #############\n",
      "[12.65383095010995, 13.452269417739227): ###########\n",
      "[13.452269417739227, 14.250707885368504): ##########\n",
      "[14.250707885368504, 15.04914635299778): #####\n",
      "[15.04914635299778, 15.847584820627057): ###\n",
      "[15.847584820627057, 16.646023288256334): ##\n",
      "[16.646023288256334, 17.44446175588561): #\n",
      "[17.44446175588561, 18.242900223514887): #\n"
     ]
    },
    {
     "data": {
      "text/plain": [
       "([8,\n",
       "  11,\n",
       "  17,\n",
       "  30,\n",
       "  37,\n",
       "  65,\n",
       "  74,\n",
       "  115,\n",
       "  88,\n",
       "  96,\n",
       "  96,\n",
       "  98,\n",
       "  76,\n",
       "  64,\n",
       "  55,\n",
       "  29,\n",
       "  18,\n",
       "  10,\n",
       "  7,\n",
       "  6],\n",
       " [2.2741308709293544,\n",
       "  3.072569338558631,\n",
       "  3.8710078061879076,\n",
       "  4.669446273817185,\n",
       "  5.467884741446461,\n",
       "  6.266323209075738,\n",
       "  7.0647616767050145,\n",
       "  7.863200144334291,\n",
       "  8.661638611963568,\n",
       "  9.460077079592844,\n",
       "  10.258515547222121,\n",
       "  11.056954014851398,\n",
       "  11.855392482480674,\n",
       "  12.65383095010995,\n",
       "  13.452269417739227,\n",
       "  14.250707885368504,\n",
       "  15.04914635299778,\n",
       "  15.847584820627057,\n",
       "  16.646023288256334,\n",
       "  17.44446175588561,\n",
       "  18.242900223514887])"
      ]
     },
     "execution_count": 21,
     "metadata": {},
     "output_type": "execute_result"
    }
   ],
   "source": [
    "#Testing\n",
    "\n",
    "mean_g1 = 0\n",
    "sigma_g1 = 1 #this is standar deviation\n",
    "\n",
    "mean_g2 = 10\n",
    "sigma_g2 = 3\n",
    "\n",
    "g1 = gaussian(mean_g1, sigma_g1) #use gaussian function\n",
    "g2 = gaussian(mean_g2, sigma_g2)\n",
    "\n",
    "std=3 #3 standard deviations gives us 99.7 gives us \n",
    "\n",
    "x_min = mean_g1 - std * sigma_g1    #get our mins and max using std to cover 99.7 %\n",
    "x_max = mean_g1 + std * sigma_g1   #using the loops to find min and max is not efficient\n",
    "\n",
    "x_min2 = mean_g2 - std * sigma_g2 \n",
    "x_max2 = mean_g2 + std * sigma_g2\n",
    "\n",
    "\n",
    "N = 1000\n",
    "generated_data1 = generate_function(g1, x_min, x_max, N) #use our gaussian number to generate the number dataset\n",
    "generated_data2 = generate_function(g2, x_min2, x_max2, N)\n",
    "\n",
    "data_mean = mean(generated_data1)   #calculate our means and variances from generated data\n",
    "data_variance = variance(generated_data1)\n",
    "\n",
    "data_mean2 = mean(generated_data2) \n",
    "data_variance2 = variance(generated_data2)\n",
    "\n",
    "print(\"Mean: \",mean_g1)  #compare our generated mean and variance to our originals\n",
    "print(f\"Gaussian Mean: \",data_mean)\n",
    "print(f\"Variance: \",sigma_g1**2) # we do this because variance is just (standard deviation^2)\n",
    "print(f\"Gaussian Variance: \",data_variance)\n",
    "\n",
    "h, b = histogram(generated_data1, 20)  #print the histogram\n",
    "draw_histogram(generated_data1, 20) \n",
    "print(\"\\n\\n\")\n",
    "\n",
    "print(\"Mean: \",mean_g2)  #compare our generated mean and variance to our originals\n",
    "print(f\"Gaussian Mean: \",data_mean2)\n",
    "print(f\"Variance: \",sigma_g2**2) # we do this because variance is just (standard deviation^2)\n",
    "print(f\"Gaussian Variance: \",data_variance2)\n",
    "\n",
    "h, b = histogram(generated_data2, 20)\n",
    "draw_histogram(generated_data2, 20) "
   ]
  },
  {
   "cell_type": "markdown",
   "metadata": {},
   "source": [
    "*Exercise 9:* Combine your `generate_function`, `where`, and `in_range` functions above to create an integrate function. Use your integrate function to show that approximately 68% of Normal distribution is within one variance."
   ]
  },
  {
   "cell_type": "code",
   "execution_count": 22,
   "metadata": {},
   "outputs": [],
   "source": [
    "def integrate(func, x_min, x_max, n_points=1000):\n",
    "    \n",
    "    generated_data = generate_function(func, x_min, x_max, n_points)\n",
    "    integral = len(data) / n_points * (x_max - x_min) #accepted points based on (generated/how many we want) * the range of values we will use  \n",
    "    \n",
    "    return integral"
   ]
  },
  {
   "cell_type": "code",
   "execution_count": 23,
   "metadata": {},
   "outputs": [
    {
     "name": "stdout",
     "output_type": "stream",
     "text": [
      "integral distribution:  2.0\n",
      "integral data standard deviation percent:  0.701\n"
     ]
    }
   ],
   "source": [
    "#Testing\n",
    "\n",
    "#use 1 standard deviation\n",
    "N = 1000  # Number of samples to generate\n",
    "mean = 0 #g1 example\n",
    "sigma = 1 #sigma is standard deviation\n",
    "g = gaussian(mean, sigma)\n",
    "\n",
    "# integral min and max 68%\n",
    "min_int = mean - sigma\n",
    "max_int = mean + sigma\n",
    "\n",
    "# Integrating Gsaussian\n",
    "integral = integrate(g, min_int,max_int, 1000)  #for some reason changing n_points changes results\n",
    "print(\"integral distribution: \",integral)\n",
    "\n",
    "generated_data = generate_function(g, -100, 100, N)\n",
    "\n",
    "#1 std \n",
    "integral_range = in_range(min_int, max_int)\n",
    "integral_data = where(generated_data, integral_range)\n",
    "\n",
    "percent = len(integral_data) / N\n",
    "print(\"integral data standard deviation percent: \",percent)\n",
    "\n",
    "\n"
   ]
  },
  {
   "cell_type": "code",
   "execution_count": null,
   "metadata": {},
   "outputs": [],
   "source": []
  },
  {
   "cell_type": "code",
   "execution_count": null,
   "metadata": {},
   "outputs": [],
   "source": []
  },
  {
   "cell_type": "code",
   "execution_count": null,
   "metadata": {},
   "outputs": [],
   "source": []
  }
 ],
 "metadata": {
  "kernelspec": {
   "display_name": "Python 3 (ipykernel)",
   "language": "python",
   "name": "python3"
  },
  "language_info": {
   "codemirror_mode": {
    "name": "ipython",
    "version": 3
   },
   "file_extension": ".py",
   "mimetype": "text/x-python",
   "name": "python",
   "nbconvert_exporter": "python",
   "pygments_lexer": "ipython3",
   "version": "3.12.3"
  }
 },
 "nbformat": 4,
 "nbformat_minor": 2
}
