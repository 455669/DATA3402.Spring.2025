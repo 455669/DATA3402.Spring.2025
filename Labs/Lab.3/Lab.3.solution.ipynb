{
 "cells": [
  {
   "cell_type": "markdown",
   "metadata": {},
   "source": [
    "# Lab 3\n",
    "\n",
    "In this lab we will become familiar with distributions, histograms, and functional programming. Do not use numpy or any other library for this lab.\n",
    "\n",
    "Before that, lets get setup homework submission and submit your previous lab.  \n",
    "\n",
    "## Working on the Command-line.\n",
    "\n",
    "It is important for you to learn to work on the command line and to be familiar with the Unix environment (e.g. Linux, Mac OS, or Windows Linux Subsystem). We'll go over working on the command-line in detail later in the course.\n",
    "\n",
    "You are required to submit your work in this course via GitHub. Today in class, you will setup everything on the command-line.\n",
    "\n",
    "### Command-line basics\n",
    "\n",
    "There is plenty of material online that will help you figure out how to do various tasks on the command line. Commands you may need to know today:\n",
    "\n",
    "* `ls`: lists the contents of the current directory.\n",
    "* `pwd`: prints the path of the current directory.\n",
    "* `cd <directory>`: changes your current directory to the specified directory.\n",
    "* `cd ..`: changes current directory to the previous directory. Basically steps out of the current directory to the directory containing the current directory.\n",
    "* `mkdir <directory>`: create a new directory with the specified name.\n",
    "* `rmdir <directory>`: removes the specified directory. Note it has to be empty.\n",
    "* `rm <filename>`: deletes the specified file.\n",
    "* `mv <filename 1> <filename 2>`: Moves or renames a file.\n",
    "* `cp <filename 1> <filename 2>`: copies an file. If you just provide a path to a directory, it copies the file into that directory with the same filename. If you specifiy a new filename, the copy has a new name. For example `cp File.1.txt File.2.txt` creates a copy of `File.1.txt` with the name `File.2.txt`. Meanwhile `cp File.1.txt my_directory`, where `my_directory` is a directory, creates a copy of `File.1.txt` in directory `my_directory` with the name `File.1.txt`.\n",
    "\n",
    "For reference, here are some example resources I found by googling:\n",
    "\n",
    "* Paths and Wildcards: https://www.warp.dev/terminus/linux-wildcards\n",
    "* Basic commands like copy: https://kb.iu.edu/d/afsk\n",
    "* General introduction to shell: https://github-pages.ucl.ac.uk/RCPSTrainingMaterials/HPCandHTCusingLegion/2_intro_to_shell.html\n",
    "* Manual pages: https://www.geeksforgeeks.org/linux-man-page-entries-different-types/?ref=ml_lbp\n",
    "* Chaining commands: https://www.geeksforgeeks.org/chaining-commands-in-linux/?ref=ml_lbp\n",
    "* Piping: https://www.geeksforgeeks.org/piping-in-unix-or-linux/\n",
    "* Using sed: https://www.geeksforgeeks.org/sed-command-linux-set-2/?ref=ml_lbp\n",
    "* Various Unix commands: https://www.geeksforgeeks.org/linux-commands/?ref=lbp\n",
    "* Cheat sheets:\n",
    "    * https://www.stationx.net/unix-commands-cheat-sheet/\n",
    "    * https://cheatography.com/davechild/cheat-sheets/linux-command-line/\n",
    "    * https://www.theknowledgeacademy.com/blog/unix-commands-cheat-sheet/\n",
    "    \n",
    "These aren't necessarily the best resources. Feel free to search for better ones. Also, don't forget that Unix has built-in manual pages for all of its commands. Just type `man <command>` at the command prompt. Use the space-bar to scroll through the documentation and \"q\" to exit.\n",
    "\n",
    "\n",
    "### Setup and Submission\n",
    "\n",
    "Our course repository is public. The instructions here aim to have you setup a fork of the course repository. Unfortunately because you are forking a public repo, your fork will have to be public also. \n",
    "\n",
    "You should be familiar with git from the first semester of this course. I assume that you all have github accounts and have setup things to be able to [push to github using ssh](https://docs.github.com/en/github/authenticating-to-github/connecting-to-github-with-ssh). The instuctions here lead you to:\n",
    "\n",
    "We'll overview what you will do before going through step by step instructions.\n",
    "\n",
    "1. Setup:\n",
    "    1. Fork the class repository. Some directions in [fork-a-repo](https://docs.github.com/en/github/getting-started-with-github/fork-a-repo).\n",
    "    1. Create a directory on your personal system where you will keep all course materials.\n",
    "    1. In that directory, clone your fork of the repository.\n",
    "    1. Using `git remote`, set the upstream to be the class repo, so you can pull from the class and push to your fork.\n",
    "\n",
    "1. Submission:\n",
    "    1. Copy your solutions into the appropriate directory (e.g. into `Labs/Lab.2/`) and with appropriate filename `Lab.2.solution.ipynb'.\n",
    "    1. Commit / push your solutions.\n",
    " \n",
    "Below are step by step instructions with examples (including example directory naming convention). Feel free to modify things as you see fit. \n",
    "\n",
    "#### Setup\n",
    "You should only need to follow this instructions once. Here are some useful git commands:\n",
    "\n",
    "* Git help: `git help`\n",
    "* Git remote help: `git help remote`\n",
    "* Check remote status: `git remote -v`\n",
    "* Add a remote: `git remote add <stream name> <repo URL>`\n",
    "* Add a remove: `git remote remove <stream name>`\n",
    "\n",
    "Steps:\n",
    "1. In a browser, log into GitHub and navigate to the [course repository](https://github.com/UTA-DataScience/DATA3402.Spring.2025).\n",
    "1. On the top right of the page, press the fork button to create a new fork into your own GitHub account.\n",
    "1. After successful fork, you should find the browser showing your fork of the course repository. Use the green \"Code\" button to copy path to the repo into your the clipboard of your computer.\n",
    "1. Open a shell on your personal computer.\n",
    "1. If you have not done so already, create a new directory/folder where you will keep all course material to navigate to it. For example: `mkdir Data-3402` and `cd Data-3402`.\n",
    "1. Clone your fork of the repository using `git clone` followed by the path you copied into your clipboard. (copy/paste)\n",
    "1. Paste the URL to your fork in the worksheet for the TAs and instructors.\n",
    "1. Now go into the directory of your clone (`cd DATA3402.Spring.2025`).\n",
    "1. Type `git remote -v` to see the current setup for fetch and pull.\n",
    "1. Note the URL you see. This should be the same as what you used for your clone for both push and fetch.\n",
    "1. Delete the origin remote using `git remote remove origin`.\n",
    "1. Add the course repo as your remote using `git remote add origin https://github.com/UTA-DataScience/DATA3402.Spring.2025.git`.\n",
    "1. Change the push to point to your fork. This means you will need the URL to your clone we copied earlier and confirmed as the original origin. The command will look something like: `git remote set-url --push origin  https://github.com/XXXXXX/DATA3402.Spring.2025.git`, where XXXXX is your username on GitHub.\n",
    "1. Note that if you setup everything correctly, you now should be able to do `git pull` to get updates from the course repo, and do `git push` to push your commits into your own fork.\n",
    "\n",
    "### Submission\n",
    "These instructions outline how you submit files. Some useful commands:\n",
    "* To add a file to local repository: `git add <file>`.\n",
    "* To commit all changed files into local repository: `git -a -m \"A message\"`. You need to provide some comment when you commit. \n",
    "* To push the commited files from the local repository to GitHub: `git push`.\n",
    "* To get updates from GitHub: `git pull`.\n",
    "\n",
    "Steps:\n",
    "1. To submit your labs, navigate to your clone of your fork of the course repository. \n",
    "1. Use `git pull` to make sure you have the latest updates. \n",
    "1. Make sure your copy of the lab your are working on is in the appropriate place in this clone. That means if you have the file elsewhere, copy it to the same directory in your clone of your fork. \n",
    "1. Note that in order to avoid future conflicts, you should always name your solution differently than the original file in the class repo. For example if your file is still named `Lab.2.ipynb` you should rename it using the `mv` command: `mv Lab.2.ipynb Lab.2.solution.ipynb`. \n",
    "1. Add and files you wish to submit into the repo. For example: `git add Labs/Lab.2/Lab.2.solution.ipynb`\n",
    "1. Commit any changes: `git commit -a -m \"Lab 2 updates\"`\n",
    "1. Push your changes: `git push`\n",
    "1. Check on github website that your solutions have been properly submitted.\n",
    "\n",
    "Before you leave the session today, make sure your GitHub Repo is setup. If you need to work further on your lab, navigate jupyter to the copy of the lab you just submitted and work there. Once done, repeat the commit and push commands to submit your updated solution. Note that lab 2 is due by midnight Friay 1/31/2025.\n"
   ]
  },
  {
   "cell_type": "markdown",
   "metadata": {},
   "source": [
    "### Uniform Distribution\n",
    "Lets start with generating some fake random data. You can get a random number between 0 and 1 using the python random module as follow:"
   ]
  },
  {
   "cell_type": "code",
   "execution_count": 119,
   "metadata": {},
   "outputs": [
    {
     "name": "stdout",
     "output_type": "stream",
     "text": [
      "The Value of x is 0.49065082664237314\n"
     ]
    }
   ],
   "source": [
    "import random\n",
    "x=random.random()\n",
    "print(\"The Value of x is\", x)"
   ]
  },
  {
   "cell_type": "markdown",
   "metadata": {},
   "source": [
    "Everytime you call random, you will get a new number.\n",
    "\n",
    "*Exercise 1:* Using random, write a function `generate_uniform(N, mymin, mymax)`, that returns a python list containing N random numbers between specified minimum and maximum value. Note that you may want to quickly work out on paper how to turn numbers between 0 and 1 to between other values. "
   ]
  },
  {
   "cell_type": "code",
   "execution_count": 120,
   "metadata": {},
   "outputs": [],
   "source": [
    "# Skeleton\n",
    "def generate_uniform(N,x_min,x_max):\n",
    "    out = []\n",
    "    ### BEGIN SOLUTION\n",
    "    multi=x_max-x_min   #get a random number using this and add it to the minimum number\n",
    "    for i in range(N):\n",
    "        \n",
    "        x=random.random()\n",
    "        completed_num = ((x*multi)+x_min)\n",
    "        out.append(completed_num)\n",
    "       #print(\"The Value of x is\", completed_num)   #for testing\n",
    "    \n",
    "    \n",
    "    \n",
    "    ### END SOLUTION\n",
    "    return out"
   ]
  },
  {
   "cell_type": "code",
   "execution_count": 121,
   "metadata": {},
   "outputs": [
    {
     "name": "stdout",
     "output_type": "stream",
     "text": [
      "Data Type: <class 'list'>\n",
      "Data Length: 1000\n",
      "Type of Data Contents: <class 'float'>\n",
      "Data Minimum: -9.978340878203781\n",
      "Data Maximum: 9.958062965005208\n"
     ]
    }
   ],
   "source": [
    "# Test your solution here\n",
    "data=generate_uniform(1000,-10,10)\n",
    "print (\"Data Type:\", type(data))\n",
    "print (\"Data Length:\", len(data))\n",
    "if len(data)>0: \n",
    "    print (\"Type of Data Contents:\", type(data[0]))\n",
    "    print (\"Data Minimum:\", min(data))\n",
    "    print (\"Data Maximum:\", max(data))"
   ]
  },
  {
   "cell_type": "markdown",
   "metadata": {},
   "source": [
    "*Exercise 2a:* \n",
    "Write a function that computes the mean of values in a list. Recall the equation for the mean of a random variable $\\bf{x}$ computed on a data set of $n$ values $\\{ x_i \\} = \\{x_1, x_2, ..., x_n\\}$  is ${\\bf\\bar{x}} = \\frac{1}{n} \\sum_i^n x_i$."
   ]
  },
  {
   "cell_type": "code",
   "execution_count": 122,
   "metadata": {},
   "outputs": [],
   "source": [
    "# Skeleton\n",
    "def mean(Data):\n",
    "    m=0.\n",
    "    divisor=len(Data)\n",
    "    #print(divisor) #testing\n",
    "    ### BEGIN SOLUTION\n",
    "    for i in Data:\n",
    "        #print(i) #testing\n",
    "        m+=i\n",
    "    m=m/divisor  #mean\n",
    "    \n",
    "    ### END SOLUTION\n",
    "    \n",
    "    return m"
   ]
  },
  {
   "cell_type": "code",
   "execution_count": 123,
   "metadata": {},
   "outputs": [
    {
     "name": "stdout",
     "output_type": "stream",
     "text": [
      "Mean of Data: 0.3509025796387742\n"
     ]
    }
   ],
   "source": [
    "# Test your solution here\n",
    "print (\"Mean of Data:\", mean(data))"
   ]
  },
  {
   "cell_type": "markdown",
   "metadata": {},
   "source": [
    "*Exercise 2b:* \n",
    "Write a function that computes the variance of values in a list. Recall the equation for the variance of a random variable $\\bf{x}$ computed on a data set of $n$ values $\\{ x_i \\} = \\{x_1, x_2, ..., x_n\\}$  is ${\\bf\\langle x \\rangle} = \\frac{1}{n} \\sum_i^n (x_i - {\\bf\\bar{x}})$."
   ]
  },
  {
   "cell_type": "code",
   "execution_count": 124,
   "metadata": {},
   "outputs": [],
   "source": [
    "# Skeleton\n",
    "def variance(Data):\n",
    "    m=0.\n",
    "    avg=mean(Data)\n",
    "    ### BEGIN SOLUTION\n",
    "    for i in Data:\n",
    "        m += (i - avg)**2  #variance math\n",
    "                        \n",
    "    m = m / len(Data)  # no n-1, thats for a sample #we do this at the end \n",
    "    \n",
    "\n",
    "        #print(i)\n",
    "    print(len(Data))\n",
    "    # Fill in your solution here        \n",
    "    \n",
    "    ### END SOLUTION\n",
    "    \n",
    "    return m"
   ]
  },
  {
   "cell_type": "code",
   "execution_count": 125,
   "metadata": {},
   "outputs": [
    {
     "name": "stdout",
     "output_type": "stream",
     "text": [
      "1000\n",
      "Variance of Data: 32.85702200915491\n"
     ]
    }
   ],
   "source": [
    "# Test your solution here\n",
    "print (\"Variance of Data:\", variance(data))"
   ]
  },
  {
   "cell_type": "markdown",
   "metadata": {},
   "source": [
    "## Histogramming"
   ]
  },
  {
   "cell_type": "markdown",
   "metadata": {},
   "source": [
    "*Exercise 3:* Write a function that bins the data so that you can create a histogram. An example of how to implement histogramming is the following logic:\n",
    "\n",
    "* User inputs a list of values `x` and optionally `n_bins` which defaults to 10.\n",
    "* If not supplied, find the minimum and maximum (`x_min`,`x_max`) of the values in x.\n",
    "* Determine the bin size (`bin_size`) by dividing the range of the function by the number of bins.\n",
    "* Create an empty list of zeros of size `n_bins`, call it `hist`.\n",
    "* Loop over the values in `x`\n",
    "    * Loop over the values in `hist` with index `i`:\n",
    "        * If x is between `x_min+i*bin_size` and `x_min+(i+1)*bin_size`, increment `hist[i].` \n",
    "        * For efficiency, try to use continue to goto the next bin and data point.\n",
    "* Return `hist` and the list corresponding of the bin edges (i.e. of `x_min+i*bin_size`).    "
   ]
  },
  {
   "cell_type": "code",
   "execution_count": 149,
   "metadata": {},
   "outputs": [],
   "source": [
    "# Solution\n",
    "def histogram(x,n_bins=10,x_min=None,x_max=None):\n",
    "    ### BEGIN SOLUTION\n",
    "    #hist=0 #testing\n",
    "    bin_edges=[] #testing\n",
    "    \n",
    "    if x_min == None:   #find smallest x_min\n",
    "        x_min=x[0]\n",
    "        for i in x:\n",
    "            if i<x_min:\n",
    "                x_min=i\n",
    "                \n",
    "    if x_max == None:   #find largest x_max\n",
    "        x_max=x[0]\n",
    "        for i in x:\n",
    "            if i>x_max:\n",
    "                x_max=i\n",
    "                \n",
    "    #print(x_min) #testing\n",
    "    #print(x_max) #testing\n",
    "    function_range =x_max-x_min #range of the function\n",
    "    \n",
    "    bin_size= function_range/n_bins\n",
    "    #print(bin_size) #testing\n",
    "            \n",
    "    hist=[]\n",
    "    #print(n_bins) testing\n",
    "    for i in range(n_bins): #make list of zeros\n",
    "        hist.append(0)\n",
    "\n",
    "    for i in range(n_bins+1):  \n",
    "        edge = (x_min + (i * bin_size)) \n",
    "        bin_edges.append(edge) #add the numbr to the list\n",
    "\n",
    "    for k in x:\n",
    "        for i in range(n_bins):\n",
    "            if (x_min+i*bin_size) <= k < (x_min+(i+1)*bin_size):\n",
    "                hist[i] += 1\n",
    "                break \n",
    "            elif i == n_bins - 1 and k == x_max: #make sure the max value is included\n",
    "                hist[i] += 1\n",
    "                break\n",
    "            else:\n",
    "                continue #saves loop time\n",
    "    \n",
    "        \n",
    "           \n",
    "    #for k  in x: #testing\n",
    "     #   for i in hist:\n",
    "      #      if (k>(x_min+i*bin_size)) and (k<(x_min+(i+1)*bin_size)):\n",
    "       #         hist[i]+=1\n",
    "                \n",
    "    \n",
    "    ### END SOLUTION\n",
    "\n",
    "    return hist,bin_edges"
   ]
  },
  {
   "cell_type": "code",
   "execution_count": 150,
   "metadata": {},
   "outputs": [
    {
     "name": "stdout",
     "output_type": "stream",
     "text": [
      "[9, 9, 14, 9, 11, 12, 6, 4, 7, 6, 6, 15, 12, 13, 7, 9, 7, 10, 4, 5, 9, 16, 4, 9, 9, 11, 9, 13, 10, 6, 11, 16, 8, 6, 5, 18, 10, 6, 11, 13, 12, 8, 13, 13, 7, 6, 9, 7, 12, 5, 16, 11, 8, 12, 14, 9, 9, 11, 11, 11, 7, 5, 12, 8, 13, 9, 8, 8, 7, 7, 16, 13, 13, 11, 15, 9, 16, 10, 8, 14, 4, 11, 7, 10, 24, 14, 8, 11, 13, 8, 8, 9, 9, 13, 10, 7, 13, 12, 10, 11]\n",
      "[-9.978340878203781, -9.77897683977169, -9.579612801339602, -9.380248762907511, -9.18088472447542, -8.981520686043332, -8.782156647611242, -8.582792609179151, -8.383428570747062, -8.184064532314972, -7.984700493882882, -7.785336455450793, -7.585972417018702, -7.386608378586613, -7.187244340154523, -6.9878803017224325, -6.788516263290343, -6.589152224858253, -6.389788186426163, -6.190424147994073, -5.9910601095619835, -5.791696071129893, -5.592332032697803, -5.392967994265714, -5.193603955833623, -4.994239917401534, -4.794875878969444, -4.5955118405373545, -4.396147802105264, -4.196783763673174, -3.997419725241085, -3.7980556868089943, -3.5986916483769047, -3.399327609944815, -3.1999635715127246, -3.000599533080635, -2.8012354946485454, -2.601871456216455, -2.4025074177843653, -2.2031433793522757, -2.003779340920186, -1.8044153024880956, -1.605051264056005, -1.4056872256239163, -1.2063231871918259, -1.0069591487597354, -0.8075951103276466, -0.6082310718955561, -0.40886703346346565, -0.20950299503137693, -0.01013895659928643, 0.1892250818328023, 0.3885891202648928, 0.5879531586969833, 0.787317197129072, 0.9866812355611625, 1.186045273993253, 1.3854093124253417, 1.5847733508574322, 1.7841373892895227, 1.9835014277216114, 2.182865466153702, 2.3822295045857924, 2.581593543017881, 2.7809575814499716, 2.980321619882062, 3.179685658314151, 3.3790496967462413, 3.578413735178332, 3.7777777736104206, 3.977141812042511, 4.1765058504746015, 4.37586988890669, 4.575233927338781, 4.774597965770871, 4.97396200420296, 5.1733260426350505, 5.372690081067141, 5.57205411949923, 5.77141815793132, 5.970782196363409, 6.170146234795499, 6.36951027322759, 6.56887431165968, 6.768238350091771, 6.967602388523858, 7.166966426955948, 7.366330465388039, 7.565694503820129, 7.76505854225222, 7.96442258068431, 8.163786619116397, 8.363150657548488, 8.562514695980578, 8.761878734412669, 8.96124277284476, 9.16060681127685, 9.359970849708937, 9.559334888141027, 9.758698926573118, 9.958062965005208]\n"
     ]
    }
   ],
   "source": [
    "# Test your solution here\n",
    "h,b=histogram(data,100)\n",
    "print(h)\n",
    "print(b)"
   ]
  },
  {
   "cell_type": "markdown",
   "metadata": {},
   "source": [
    "*Exercise 4:* Write a function that uses the histogram function in the previous exercise to create a text-based \"graph\". For example the output could look like the following:\n",
    "```\n",
    "[  0,  1] : ######\n",
    "[  1,  2] : #####\n",
    "[  2,  3] : ######\n",
    "[  3,  4] : ####\n",
    "[  4,  5] : ####\n",
    "[  5,  6] : ######\n",
    "[  6,  7] : #####\n",
    "[  7,  8] : ######\n",
    "[  8,  9] : ####\n",
    "[  9, 10] : #####\n",
    "```\n",
    "\n",
    "Where each line corresponds to a bin and the number of `#`'s are proportional to the value of the data in the bin. "
   ]
  },
  {
   "cell_type": "code",
   "execution_count": 182,
   "metadata": {},
   "outputs": [],
   "source": [
    "# Solution\n",
    "def draw_histogram(x,n_bins,x_min=None,x_max=None,character=\"#\",max_character_per_line=20):\n",
    "    ### BEGIN SOLUTION\n",
    "\n",
    "    hist, bin_edges = histogram(x,n_bins,x_min,x_max) #get our histogram info\n",
    "    \n",
    "    for i in range(n_bins):\n",
    "        start = bin_edges[i]\n",
    "        end = bin_edges[i+1]\n",
    "        counter = hist[i]\n",
    "\n",
    "    \n",
    "        length = int(round((counter / max(hist)) * max_character_per_line)) #gives int for the bar lengths\n",
    "\n",
    "\n",
    "        bar_lines = character * length #create the # bar lines\n",
    "        print(f\"[{start}, {end}): {bar_lines}\")\n",
    "\n",
    "    #print(\"END\") testing\n",
    "    ### END SOLUTION\n",
    "    return hist,bin_edges"
   ]
  },
  {
   "cell_type": "code",
   "execution_count": 183,
   "metadata": {},
   "outputs": [
    {
     "name": "stdout",
     "output_type": "stream",
     "text": [
      "[-9.978340878203781, -8.981520686043332): ###############\n",
      "[-8.981520686043332, -7.984700493882882): ##########\n",
      "[-7.984700493882882, -6.9878803017224325): ################\n",
      "[-6.9878803017224325, -5.9910601095619835): ##########\n",
      "[-5.9910601095619835, -4.994239917401534): ##############\n",
      "[-4.994239917401534, -3.997419725241084): ##############\n",
      "[-3.997419725241084, -3.000599533080635): ##############\n",
      "[-3.000599533080635, -2.003779340920185): #################\n",
      "[-2.003779340920185, -1.0069591487597354): ################\n",
      "[-1.0069591487597354, -0.01013895659928643): ###########\n",
      "[-0.01013895659928643, 0.9866812355611625): ##################\n",
      "[0.9866812355611625, 1.9835014277216132): ###############\n",
      "[1.9835014277216132, 2.980321619882062): #############\n",
      "[2.980321619882062, 3.977141812042511): ###########\n",
      "[3.977141812042511, 4.973962004202962): ####################\n",
      "[4.973962004202962, 5.970782196363411): #################\n",
      "[5.970782196363411, 6.967602388523861): ################\n",
      "[6.967602388523861, 7.96442258068431): ################\n",
      "[7.96442258068431, 8.96124277284476): ##############\n",
      "[8.96124277284476, 9.958062965005208): ################\n"
     ]
    },
    {
     "data": {
      "text/plain": [
       "([52,\n",
       "  35,\n",
       "  53,\n",
       "  35,\n",
       "  47,\n",
       "  49,\n",
       "  46,\n",
       "  58,\n",
       "  53,\n",
       "  39,\n",
       "  61,\n",
       "  51,\n",
       "  45,\n",
       "  39,\n",
       "  68,\n",
       "  57,\n",
       "  56,\n",
       "  54,\n",
       "  49,\n",
       "  53],\n",
       " [-9.978340878203781,\n",
       "  -8.981520686043332,\n",
       "  -7.984700493882882,\n",
       "  -6.9878803017224325,\n",
       "  -5.9910601095619835,\n",
       "  -4.994239917401534,\n",
       "  -3.997419725241084,\n",
       "  -3.000599533080635,\n",
       "  -2.003779340920185,\n",
       "  -1.0069591487597354,\n",
       "  -0.01013895659928643,\n",
       "  0.9866812355611625,\n",
       "  1.9835014277216132,\n",
       "  2.980321619882062,\n",
       "  3.977141812042511,\n",
       "  4.973962004202962,\n",
       "  5.970782196363411,\n",
       "  6.967602388523861,\n",
       "  7.96442258068431,\n",
       "  8.96124277284476,\n",
       "  9.958062965005208])"
      ]
     },
     "execution_count": 183,
     "metadata": {},
     "output_type": "execute_result"
    }
   ],
   "source": [
    "# Test your solution here\n",
    "h,b=histogram(data,20)\n",
    "draw_histogram(data, 20)"
   ]
  },
  {
   "cell_type": "markdown",
   "metadata": {},
   "source": [
    "## Functional Programming\n",
    "\n",
    "*Exercise 5:* Write a function the applies a booling function (that returns true/false) to every element in data, and return a list of indices of elements where the result was true. Use this function to find the indices of entries greater than 0.5. "
   ]
  },
  {
   "cell_type": "code",
   "execution_count": 194,
   "metadata": {},
   "outputs": [],
   "source": [
    "def where(mylist,myfunc):\n",
    "    out= []\n",
    "    \n",
    "    ### BEGIN SOLUTION\n",
    "    #for i in myList: #only gives the number\n",
    "            \n",
    "    for i in range(len(mylist)):  # i is index\n",
    "        num = mylist[i]   #gives number at the position i\n",
    "        if myfunc(num): #if true from fuction\n",
    "            out.append(i) #add index\n",
    "    \n",
    "    ### END SOLUTION\n",
    "    \n",
    "    return out"
   ]
  },
  {
   "cell_type": "code",
   "execution_count": 197,
   "metadata": {},
   "outputs": [
    {
     "name": "stdout",
     "output_type": "stream",
     "text": [
      "index with number > .5: [0, 1, 2, 3, 6, 7, 9, 12, 18, 23, 24, 25, 26, 33, 35, 36, 37, 39, 40, 43, 45, 47, 48, 50, 57, 60, 61, 62, 64, 66, 67, 70, 72, 73, 79, 82, 84, 87, 89, 90, 91, 93, 95, 96, 100, 101, 102, 103, 105, 107, 110, 112, 114, 117, 118, 119, 120, 122, 125, 127, 129, 130, 133, 134, 137, 138, 140, 141, 142, 145, 146, 147, 148, 149, 150, 152, 155, 156, 157, 162, 163, 164, 165, 166, 170, 171, 172, 174, 175, 176, 177, 178, 181, 182, 185, 187, 189, 193, 194, 196, 197, 198, 200, 201, 205, 209, 210, 211, 212, 217, 218, 219, 220, 223, 224, 225, 226, 229, 230, 232, 233, 236, 237, 238, 240, 243, 246, 248, 250, 251, 252, 255, 258, 259, 260, 261, 262, 264, 265, 266, 268, 269, 271, 272, 273, 275, 277, 279, 284, 285, 287, 288, 289, 290, 292, 293, 295, 296, 304, 305, 306, 307, 309, 314, 317, 318, 320, 323, 324, 325, 327, 330, 332, 334, 337, 338, 343, 344, 347, 348, 349, 350, 351, 353, 354, 355, 356, 359, 361, 362, 364, 368, 370, 371, 375, 378, 380, 382, 383, 384, 386, 388, 391, 395, 397, 398, 401, 402, 403, 408, 409, 411, 415, 416, 418, 421, 422, 424, 425, 426, 427, 428, 430, 431, 432, 433, 434, 435, 437, 438, 439, 440, 444, 445, 447, 448, 452, 456, 457, 458, 462, 463, 465, 466, 467, 468, 470, 473, 477, 478, 480, 481, 482, 486, 488, 492, 494, 496, 500, 501, 505, 506, 507, 511, 514, 518, 521, 522, 523, 524, 525, 527, 528, 529, 530, 532, 533, 534, 537, 538, 541, 543, 545, 547, 548, 550, 562, 563, 566, 567, 569, 570, 572, 573, 574, 575, 578, 579, 580, 584, 586, 587, 588, 589, 590, 591, 593, 596, 597, 599, 605, 607, 610, 613, 614, 616, 618, 621, 624, 625, 626, 628, 629, 630, 632, 635, 637, 638, 639, 641, 642, 643, 645, 647, 648, 650, 651, 652, 653, 656, 658, 659, 660, 664, 669, 673, 674, 675, 676, 677, 681, 683, 684, 685, 687, 689, 690, 692, 693, 695, 699, 702, 703, 705, 707, 709, 711, 712, 715, 716, 717, 721, 722, 723, 728, 735, 737, 739, 740, 742, 743, 749, 752, 754, 760, 762, 763, 764, 765, 766, 770, 773, 777, 779, 780, 782, 783, 785, 786, 787, 788, 789, 791, 796, 797, 798, 801, 802, 803, 804, 805, 806, 807, 809, 810, 813, 814, 816, 824, 825, 826, 828, 830, 831, 832, 838, 839, 840, 841, 844, 845, 846, 848, 850, 851, 852, 854, 858, 860, 865, 866, 868, 869, 871, 872, 873, 874, 876, 878, 885, 886, 888, 891, 893, 894, 895, 897, 900, 902, 903, 904, 905, 906, 907, 910, 913, 915, 916, 919, 920, 922, 923, 924, 928, 932, 935, 936, 937, 938, 940, 941, 943, 946, 947, 950, 954, 956, 957, 960, 963, 967, 971, 972, 974, 978, 986, 988, 991, 993, 995, 997, 998]\n",
      "index with number > .5: [1, 3]\n"
     ]
    }
   ],
   "source": [
    "# Test your solution here\n",
    "data2 = [.2, 7, -5, 77]\n",
    "def bigger(num): #number greater than .5\n",
    "    if num > .5:\n",
    "        return True\n",
    "    else:\n",
    "        return False\n",
    "\n",
    "p1 = where(data, bigger)\n",
    "print(\"index with number > .5:\", p1)\n",
    "\n",
    "p2 = where(data2, bigger)\n",
    "print(\"index with number > .5:\", p2)\n"
   ]
  },
  {
   "cell_type": "markdown",
   "metadata": {},
   "source": [
    "*Exercise 6:* The `inrange(mymin,mymax)` function below returns a function that tests if it's input is between the specified values. Write corresponding functions that test:\n",
    "* Even\n",
    "* Odd\n",
    "* Greater than\n",
    "* Less than\n",
    "* Equal\n",
    "* Divisible by"
   ]
  },
  {
   "cell_type": "code",
   "execution_count": 201,
   "metadata": {},
   "outputs": [
    {
     "name": "stdout",
     "output_type": "stream",
     "text": [
      "True True False False False\n",
      "False False True True False\n",
      "Number of Entries passing F1: 533\n",
      "Number of Entries passing F2: 0\n"
     ]
    }
   ],
   "source": [
    "def in_range(mymin,mymax):\n",
    "    def testrange(x):\n",
    "        return x<mymax and x>=mymin\n",
    "    return testrange\n",
    "\n",
    "# Examples:\n",
    "F1=in_range(0,10)\n",
    "F2=in_range(10,20)\n",
    "\n",
    "# Test of in_range\n",
    "print (F1(0), F1(1), F1(10), F1(15), F1(20))\n",
    "print (F2(0), F2(1), F2(10), F2(15), F2(20))\n",
    "\n",
    "print (\"Number of Entries passing F1:\", len(where(data,F1)))\n",
    "print (\"Number of Entries passing F2:\", len(where(data,F2)))"
   ]
  },
  {
   "cell_type": "code",
   "execution_count": 210,
   "metadata": {},
   "outputs": [],
   "source": [
    "### BEGIN SOLUTION\n",
    "\n",
    "def Even(x):\n",
    "    x=int(x)\n",
    "    if (x%2)==0: #gives 0 if number is even\n",
    "        return True\n",
    "    else:\n",
    "        return False\n",
    "      \n",
    "def Odd(x):\n",
    "    x=int(x)\n",
    "    if (x%2)!=0: #gives a remainder if number is odd\n",
    "        return True\n",
    "    else:\n",
    "        return False\n",
    "    \n",
    "def Greater(x):\n",
    "    def bigger(y):\n",
    "        return y > x #return true or false\n",
    "    return bigger #function is returned\n",
    "\n",
    "def Smaller(x):\n",
    "    def less(y):\n",
    "        return y < x #return true or false\n",
    "    return less #function is returned\n",
    "\n",
    "def Equal(x):\n",
    "    def same(y): #return true if same\n",
    "        return x == y\n",
    "    return same #return function\n",
    "\n",
    "def Divisible_by(x):\n",
    "    def divide(y):\n",
    "        y = int(y) #needed to do mod division\n",
    "        return y % x == 0 #checks to return true or false\n",
    "    return divide\n",
    "\n",
    "### END SOLUTION"
   ]
  },
  {
   "cell_type": "code",
   "execution_count": 214,
   "metadata": {},
   "outputs": [
    {
     "name": "stdout",
     "output_type": "stream",
     "text": [
      "even? True\n",
      "odd? False\n",
      "20 > 9? True\n",
      "20 < 6? False\n",
      "9=7? False\n",
      "8/4? True\n"
     ]
    }
   ],
   "source": [
    "# Test your solution\n",
    "\n",
    "print(\"even?\", even_test(100))\n",
    "\n",
    "print(\"odd?\", odd_test(88))\n",
    "\n",
    "greater_test = Greater(9) #give values for both nested functions\n",
    "print(\"20 > 9?\", greater_test(20))\n",
    "\n",
    "less_test = Smaller(6)\n",
    "print(\"20 < 6?\", less_test(20))\n",
    "\n",
    "equal_test = Equal(7)\n",
    "print(\"9=7?\", equal_test(9))\n",
    "\n",
    "divide_test = Divisible_by(4)\n",
    "print(\"8/4?\", divide_test(8))\n"
   ]
  },
  {
   "cell_type": "markdown",
   "metadata": {},
   "source": [
    "*Exercise 7:* Repeat the previous exercise using `lambda` and the built-in python functions sum and map instead of your solution above. "
   ]
  },
  {
   "cell_type": "code",
   "execution_count": null,
   "metadata": {},
   "outputs": [],
   "source": [
    "### BEGIN SOLUTION\n",
    "\n",
    "\n",
    "    \n",
    "### END SOLUTION"
   ]
  },
  {
   "cell_type": "markdown",
   "metadata": {},
   "source": [
    "## Monte Carlo\n",
    "\n",
    "*Exercise 7:* Write a \"generator\" function called `generate_function(func,x_min,x_max,N)`, that instead of generating a flat distribution, generates a distribution with functional form coded in `func`. Note that `func` will always be > 0.  \n",
    "\n",
    "Use the test function below and your histogramming functions above to demonstrate that your generator is working properly.\n",
    "\n",
    "Hint: A simple, but slow, solution is to a draw random number `test_x` within the specified range and another number `p` between the `min` and `max` of the function (which you will have to determine). If `p<=function(test_x)`, then place `test_x` on the output. If not, repeat the process, drawing two new numbers. Repeat until you have the specified number of generated numbers, `N`. For this problem, it's OK to determine the `min` and `max` by numerically sampling the function.  "
   ]
  },
  {
   "cell_type": "code",
   "execution_count": null,
   "metadata": {},
   "outputs": [],
   "source": [
    "def generate_function(func,x_min,x_max,N=1000):\n",
    "    out = list()\n",
    "    ### BEGIN SOLUTION\n",
    "\n",
    "    # Fill in your solution here        \n",
    "    \n",
    "    ### END SOLUTION\n",
    "    \n",
    "    return out"
   ]
  },
  {
   "cell_type": "code",
   "execution_count": null,
   "metadata": {},
   "outputs": [],
   "source": [
    "# A test function\n",
    "def test_func(x,a=1,b=1):\n",
    "    return abs(a*x+b)"
   ]
  },
  {
   "cell_type": "markdown",
   "metadata": {},
   "source": [
    "*Exercise 8:* Use your function to generate 1000 numbers that are normal distributed, using the `gaussian` function below. Confirm the mean and variance of the data is close to the mean and variance you specify when building the Gaussian. Histogram the data. "
   ]
  },
  {
   "cell_type": "code",
   "execution_count": null,
   "metadata": {},
   "outputs": [],
   "source": [
    "import math\n",
    "\n",
    "def gaussian(mean, sigma):\n",
    "    def f(x):\n",
    "        return math.exp(-((x-mean)**2)/(2*sigma**2))/math.sqrt(math.pi*sigma)\n",
    "    return f\n",
    "\n",
    "# Example Instantiation\n",
    "g1=gaussian(0,1)\n",
    "g2=gaussian(10,3)"
   ]
  },
  {
   "cell_type": "markdown",
   "metadata": {},
   "source": [
    "*Exercise 9:* Combine your `generate_function`, `where`, and `in_range` functions above to create an integrate function. Use your integrate function to show that approximately 68% of Normal distribution is within one variance."
   ]
  },
  {
   "cell_type": "code",
   "execution_count": null,
   "metadata": {},
   "outputs": [],
   "source": [
    "def integrate(func, x_min, x_max, n_points=1000):\n",
    "    \n",
    "    return integral"
   ]
  },
  {
   "cell_type": "code",
   "execution_count": null,
   "metadata": {},
   "outputs": [],
   "source": []
  }
 ],
 "metadata": {
  "kernelspec": {
   "display_name": "Python 3 (ipykernel)",
   "language": "python",
   "name": "python3"
  },
  "language_info": {
   "codemirror_mode": {
    "name": "ipython",
    "version": 3
   },
   "file_extension": ".py",
   "mimetype": "text/x-python",
   "name": "python",
   "nbconvert_exporter": "python",
   "pygments_lexer": "ipython3",
   "version": "3.12.3"
  }
 },
 "nbformat": 4,
 "nbformat_minor": 2
}
