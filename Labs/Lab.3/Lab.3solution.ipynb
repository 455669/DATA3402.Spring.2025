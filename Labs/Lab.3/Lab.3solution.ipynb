{
 "cells": [
  {
   "cell_type": "markdown",
   "metadata": {},
   "source": [
    "# Lab 3\n",
    "\n",
    "In this lab we will become familiar with distributions, histograms, and functional programming. Do not use numpy or any other library for this lab.\n",
    "\n",
    "Before that, lets get setup homework submission and submit your previous lab.  \n",
    "\n",
    "## Working on the Command-line.\n",
    "\n",
    "It is important for you to learn to work on the command line and to be familiar with the Unix environment (e.g. Linux, Mac OS, or Windows Linux Subsystem). We'll go over working on the command-line in detail later in the course.\n",
    "\n",
    "You are required to submit your work in this course via GitHub. Today in class, you will setup everything on the command-line.\n",
    "\n",
    "### Command-line basics\n",
    "\n",
    "There is plenty of material online that will help you figure out how to do various tasks on the command line. Commands you may need to know today:\n",
    "\n",
    "* `ls`: lists the contents of the current directory.\n",
    "* `pwd`: prints the path of the current directory.\n",
    "* `cd <directory>`: changes your current directory to the specified directory.\n",
    "* `cd ..`: changes current directory to the previous directory. Basically steps out of the current directory to the directory containing the current directory.\n",
    "* `mkdir <directory>`: create a new directory with the specified name.\n",
    "* `rmdir <directory>`: removes the specified directory. Note it has to be empty.\n",
    "* `rm <filename>`: deletes the specified file.\n",
    "* `mv <filename 1> <filename 2>`: Moves or renames a file.\n",
    "* `cp <filename 1> <filename 2>`: copies an file. If you just provide a path to a directory, it copies the file into that directory with the same filename. If you specifiy a new filename, the copy has a new name. For example `cp File.1.txt File.2.txt` creates a copy of `File.1.txt` with the name `File.2.txt`. Meanwhile `cp File.1.txt my_directory`, where `my_directory` is a directory, creates a copy of `File.1.txt` in directory `my_directory` with the name `File.1.txt`.\n",
    "\n",
    "For reference, here are some example resources I found by googling:\n",
    "\n",
    "* Paths and Wildcards: https://www.warp.dev/terminus/linux-wildcards\n",
    "* Basic commands like copy: https://kb.iu.edu/d/afsk\n",
    "* General introduction to shell: https://github-pages.ucl.ac.uk/RCPSTrainingMaterials/HPCandHTCusingLegion/2_intro_to_shell.html\n",
    "* Manual pages: https://www.geeksforgeeks.org/linux-man-page-entries-different-types/?ref=ml_lbp\n",
    "* Chaining commands: https://www.geeksforgeeks.org/chaining-commands-in-linux/?ref=ml_lbp\n",
    "* Piping: https://www.geeksforgeeks.org/piping-in-unix-or-linux/\n",
    "* Using sed: https://www.geeksforgeeks.org/sed-command-linux-set-2/?ref=ml_lbp\n",
    "* Various Unix commands: https://www.geeksforgeeks.org/linux-commands/?ref=lbp\n",
    "* Cheat sheets:\n",
    "    * https://www.stationx.net/unix-commands-cheat-sheet/\n",
    "    * https://cheatography.com/davechild/cheat-sheets/linux-command-line/\n",
    "    * https://www.theknowledgeacademy.com/blog/unix-commands-cheat-sheet/\n",
    "    \n",
    "These aren't necessarily the best resources. Feel free to search for better ones. Also, don't forget that Unix has built-in manual pages for all of its commands. Just type `man <command>` at the command prompt. Use the space-bar to scroll through the documentation and \"q\" to exit.\n",
    "\n",
    "\n",
    "### Setup and Submission\n",
    "\n",
    "Our course repository is public. The instructions here aim to have you setup a fork of the course repository. Unfortunately because you are forking a public repo, your fork will have to be public also. \n",
    "\n",
    "You should be familiar with git from the first semester of this course. I assume that you all have github accounts and have setup things to be able to [push to github using ssh](https://docs.github.com/en/github/authenticating-to-github/connecting-to-github-with-ssh). The instuctions here lead you to:\n",
    "\n",
    "We'll overview what you will do before going through step by step instructions.\n",
    "\n",
    "1. Setup:\n",
    "    1. Fork the class repository. Some directions in [fork-a-repo](https://docs.github.com/en/github/getting-started-with-github/fork-a-repo).\n",
    "    1. Create a directory on your personal system where you will keep all course materials.\n",
    "    1. In that directory, clone your fork of the repository.\n",
    "    1. Using `git remote`, set the upstream to be the class repo, so you can pull from the class and push to your fork.\n",
    "\n",
    "1. Submission:\n",
    "    1. Copy your solutions into the appropriate directory (e.g. into `Labs/Lab.2/`) and with appropriate filename `Lab.2.solution.ipynb'.\n",
    "    1. Commit / push your solutions.\n",
    " \n",
    "Below are step by step instructions with examples (including example directory naming convention). Feel free to modify things as you see fit. \n",
    "\n",
    "#### Setup\n",
    "You should only need to follow this instructions once. Here are some useful git commands:\n",
    "\n",
    "* Git help: `git help`\n",
    "* Git remote help: `git help remote`\n",
    "* Check remote status: `git remote -v`\n",
    "* Add a remote: `git remote add <stream name> <repo URL>`\n",
    "* Add a remove: `git remote remove <stream name>`\n",
    "\n",
    "Steps:\n",
    "1. In a browser, log into GitHub and navigate to the [course repository](https://github.com/UTA-DataScience/DATA3402.Spring.2025).\n",
    "1. On the top right of the page, press the fork button to create a new fork into your own GitHub account.\n",
    "1. After successful fork, you should find the browser showing your fork of the course repository. Use the green \"Code\" button to copy path to the repo into your the clipboard of your computer.\n",
    "1. Open a shell on your personal computer.\n",
    "1. If you have not done so already, create a new directory/folder where you will keep all course material to navigate to it. For example: `mkdir Data-3402` and `cd Data-3402`.\n",
    "1. Clone your fork of the repository using `git clone` followed by the path you copied into your clipboard. (copy/paste)\n",
    "1. Paste the URL to your fork in the worksheet for the TAs and instructors.\n",
    "1. Now go into the directory of your clone (`cd DATA3402.Spring.2025`).\n",
    "1. Type `git remote -v` to see the current setup for fetch and pull.\n",
    "1. Note the URL you see. This should be the same as what you used for your clone for both push and fetch.\n",
    "1. Delete the origin remote using `git remote remove origin`.\n",
    "1. Add the course repo as your remote using `git remote add origin https://github.com/UTA-DataScience/DATA3402.Spring.2025.git`.\n",
    "1. Change the push to point to your fork. This means you will need the URL to your clone we copied earlier and confirmed as the original origin. The command will look something like: `git remote set-url --push origin  https://github.com/XXXXXX/DATA3402.Spring.2025.git`, where XXXXX is your username on GitHub.\n",
    "1. Note that if you setup everything correctly, you now should be able to do `git pull` to get updates from the course repo, and do `git push` to push your commits into your own fork.\n",
    "\n",
    "### Submission\n",
    "These instructions outline how you submit files. Some useful commands:\n",
    "* To add a file to local repository: `git add <file>`.\n",
    "* To commit all changed files into local repository: `git -a -m \"A message\"`. You need to provide some comment when you commit. \n",
    "* To push the commited files from the local repository to GitHub: `git push`.\n",
    "* To get updates from GitHub: `git pull`.\n",
    "\n",
    "Steps:\n",
    "1. To submit your labs, navigate to your clone of your fork of the course repository. \n",
    "1. Use `git pull` to make sure you have the latest updates. \n",
    "1. Make sure your copy of the lab your are working on is in the appropriate place in this clone. That means if you have the file elsewhere, copy it to the same directory in your clone of your fork. \n",
    "1. Note that in order to avoid future conflicts, you should always name your solution differently than the original file in the class repo. For example if your file is still named `Lab.2.ipynb` you should rename it using the `mv` command: `mv Lab.2.ipynb Lab.2.solution.ipynb`. \n",
    "1. Add and files you wish to submit into the repo. For example: `git add Labs/Lab.2/Lab.2.solution.ipynb`\n",
    "1. Commit any changes: `git commit -a -m \"Lab 2 updates\"`\n",
    "1. Push your changes: `git push`\n",
    "1. Check on github website that your solutions have been properly submitted.\n",
    "\n",
    "Before you leave the session today, make sure your GitHub Repo is setup. If you need to work further on your lab, navigate jupyter to the copy of the lab you just submitted and work there. Once done, repeat the commit and push commands to submit your updated solution. Note that lab 2 is due by midnight Friay 1/31/2025.\n"
   ]
  },
  {
   "cell_type": "markdown",
   "metadata": {},
   "source": [
    "### Uniform Distribution\n",
    "Lets start with generating some fake random data. You can get a random number between 0 and 1 using the python random module as follow:"
   ]
  },
  {
   "cell_type": "code",
   "execution_count": 1,
   "metadata": {},
   "outputs": [
    {
     "name": "stdout",
     "output_type": "stream",
     "text": [
      "The Value of x is 0.8392534237217784\n"
     ]
    }
   ],
   "source": [
    "import random\n",
    "x=random.random()\n",
    "print(\"The Value of x is\", x)"
   ]
  },
  {
   "cell_type": "markdown",
   "metadata": {},
   "source": [
    "Everytime you call random, you will get a new number.\n",
    "\n",
    "*Exercise 1:* Using random, write a function `generate_uniform(N, mymin, mymax)`, that returns a python list containing N random numbers between specified minimum and maximum value. Note that you may want to quickly work out on paper how to turn numbers between 0 and 1 to between other values. "
   ]
  },
  {
   "cell_type": "code",
   "execution_count": 2,
   "metadata": {},
   "outputs": [],
   "source": [
    "# Skeleton\n",
    "def generate_uniform(N,x_min,x_max):\n",
    "    out = []\n",
    "    ### BEGIN SOLUTION\n",
    "    multi=x_max-x_min   #get a random number using this and add it to the minimum number\n",
    "    for i in range(N):\n",
    "        \n",
    "        x=random.random()\n",
    "        completed_num = ((x*multi)+x_min)\n",
    "        out.append(completed_num)\n",
    "       #print(\"The Value of x is\", completed_num)   #for testing\n",
    "    \n",
    "    \n",
    "    \n",
    "    ### END SOLUTION\n",
    "    return out"
   ]
  },
  {
   "cell_type": "code",
   "execution_count": 3,
   "metadata": {},
   "outputs": [
    {
     "name": "stdout",
     "output_type": "stream",
     "text": [
      "Data Type: <class 'list'>\n",
      "Data Length: 1000\n",
      "Type of Data Contents: <class 'float'>\n",
      "Data Minimum: -9.998737572191063\n",
      "Data Maximum: 9.978380628184397\n"
     ]
    }
   ],
   "source": [
    "# Test your solution here\n",
    "data=generate_uniform(1000,-10,10)\n",
    "print (\"Data Type:\", type(data))\n",
    "print (\"Data Length:\", len(data))\n",
    "if len(data)>0: \n",
    "    print (\"Type of Data Contents:\", type(data[0]))\n",
    "    print (\"Data Minimum:\", min(data))\n",
    "    print (\"Data Maximum:\", max(data))"
   ]
  },
  {
   "cell_type": "markdown",
   "metadata": {},
   "source": [
    "*Exercise 2a:* \n",
    "Write a function that computes the mean of values in a list. Recall the equation for the mean of a random variable $\\bf{x}$ computed on a data set of $n$ values $\\{ x_i \\} = \\{x_1, x_2, ..., x_n\\}$  is ${\\bf\\bar{x}} = \\frac{1}{n} \\sum_i^n x_i$."
   ]
  },
  {
   "cell_type": "code",
   "execution_count": 4,
   "metadata": {},
   "outputs": [],
   "source": [
    "# Skeleton\n",
    "def mean(Data):\n",
    "    m=0.\n",
    "    divisor=len(Data)\n",
    "    #print(divisor) #testing\n",
    "    ### BEGIN SOLUTION\n",
    "    for i in Data:\n",
    "        #print(i) #testing\n",
    "        m+=i\n",
    "    m=m/divisor  #mean\n",
    "    \n",
    "    ### END SOLUTION\n",
    "    \n",
    "    return m"
   ]
  },
  {
   "cell_type": "code",
   "execution_count": 5,
   "metadata": {},
   "outputs": [
    {
     "name": "stdout",
     "output_type": "stream",
     "text": [
      "Mean of Data: 0.11448743299201311\n"
     ]
    }
   ],
   "source": [
    "# Test your solution here\n",
    "print (\"Mean of Data:\", mean(data))"
   ]
  },
  {
   "cell_type": "markdown",
   "metadata": {},
   "source": [
    "*Exercise 2b:* \n",
    "Write a function that computes the variance of values in a list. Recall the equation for the variance of a random variable $\\bf{x}$ computed on a data set of $n$ values $\\{ x_i \\} = \\{x_1, x_2, ..., x_n\\}$  is ${\\bf\\langle x \\rangle} = \\frac{1}{n} \\sum_i^n (x_i - {\\bf\\bar{x}})$."
   ]
  },
  {
   "cell_type": "code",
   "execution_count": 6,
   "metadata": {},
   "outputs": [],
   "source": [
    "# Skeleton\n",
    "def variance(Data):\n",
    "    m=0.\n",
    "    avg=mean(Data)\n",
    "    ### BEGIN SOLUTION\n",
    "    for i in Data:\n",
    "        m += (i - avg)**2  #variance math\n",
    "                        \n",
    "    m = m / len(Data)  # no n-1, thats for a sample #we do this at the end \n",
    "    \n",
    "\n",
    "        #print(i)\n",
    "    print(len(Data))\n",
    "    # Fill in your solution here        \n",
    "    \n",
    "    ### END SOLUTION\n",
    "    \n",
    "    return m"
   ]
  },
  {
   "cell_type": "code",
   "execution_count": 7,
   "metadata": {},
   "outputs": [
    {
     "name": "stdout",
     "output_type": "stream",
     "text": [
      "1000\n",
      "Variance of Data: 35.14005243842291\n"
     ]
    }
   ],
   "source": [
    "# Test your solution here\n",
    "print (\"Variance of Data:\", variance(data))"
   ]
  },
  {
   "cell_type": "markdown",
   "metadata": {},
   "source": [
    "## Histogramming"
   ]
  },
  {
   "cell_type": "markdown",
   "metadata": {},
   "source": [
    "*Exercise 3:* Write a function that bins the data so that you can create a histogram. An example of how to implement histogramming is the following logic:\n",
    "\n",
    "* User inputs a list of values `x` and optionally `n_bins` which defaults to 10.\n",
    "* If not supplied, find the minimum and maximum (`x_min`,`x_max`) of the values in x.\n",
    "* Determine the bin size (`bin_size`) by dividing the range of the function by the number of bins.\n",
    "* Create an empty list of zeros of size `n_bins`, call it `hist`.\n",
    "* Loop over the values in `x`\n",
    "    * Loop over the values in `hist` with index `i`:\n",
    "        * If x is between `x_min+i*bin_size` and `x_min+(i+1)*bin_size`, increment `hist[i].` \n",
    "        * For efficiency, try to use continue to goto the next bin and data point.\n",
    "* Return `hist` and the list corresponding of the bin edges (i.e. of `x_min+i*bin_size`).    "
   ]
  },
  {
   "cell_type": "code",
   "execution_count": 8,
   "metadata": {},
   "outputs": [],
   "source": [
    "# Solution\n",
    "def histogram(x,n_bins=10,x_min=None,x_max=None):\n",
    "    ### BEGIN SOLUTION\n",
    "    #hist=0 #testing\n",
    "    bin_edges=[] #testing\n",
    "    \n",
    "    if x_min == None:   #find smallest x_min\n",
    "        x_min=x[0]\n",
    "        for i in x:\n",
    "            if i<x_min:\n",
    "                x_min=i\n",
    "                \n",
    "    if x_max == None:   #find largest x_max\n",
    "        x_max=x[0]\n",
    "        for i in x:\n",
    "            if i>x_max:\n",
    "                x_max=i\n",
    "                \n",
    "    #print(x_min) #testing\n",
    "    #print(x_max) #testing\n",
    "    function_range =x_max-x_min #range of the function\n",
    "    \n",
    "    bin_size= function_range/n_bins\n",
    "    #print(bin_size) #testing\n",
    "            \n",
    "    hist=[]\n",
    "    #print(n_bins) testing\n",
    "    for i in range(n_bins): #make list of zeros\n",
    "        hist.append(0)\n",
    "\n",
    "    for i in range(n_bins+1):  \n",
    "        edge = (x_min + (i * bin_size)) \n",
    "        bin_edges.append(edge) #add the numbr to the list\n",
    "\n",
    "    for k in x:\n",
    "        for i in range(n_bins):\n",
    "            if (x_min+i*bin_size) <= k < (x_min+(i+1)*bin_size):\n",
    "                hist[i] += 1\n",
    "                break \n",
    "            elif i == n_bins - 1 and k == x_max: #make sure the max value is included\n",
    "                hist[i] += 1\n",
    "                break\n",
    "            else:\n",
    "                continue #saves loop time\n",
    "    \n",
    "        \n",
    "           \n",
    "    #for k  in x: #testing\n",
    "     #   for i in hist:\n",
    "      #      if (k>(x_min+i*bin_size)) and (k<(x_min+(i+1)*bin_size)):\n",
    "       #         hist[i]+=1\n",
    "                \n",
    "    \n",
    "    ### END SOLUTION\n",
    "\n",
    "    return hist,bin_edges"
   ]
  },
  {
   "cell_type": "code",
   "execution_count": 9,
   "metadata": {},
   "outputs": [
    {
     "name": "stdout",
     "output_type": "stream",
     "text": [
      "[12, 17, 10, 11, 11, 9, 8, 13, 7, 7, 16, 13, 8, 12, 11, 7, 7, 11, 16, 9, 12, 7, 8, 9, 10, 7, 8, 6, 14, 9, 10, 8, 8, 4, 10, 5, 9, 12, 11, 9, 10, 6, 8, 10, 12, 8, 11, 10, 13, 8, 8, 12, 11, 11, 9, 7, 9, 5, 8, 11, 9, 10, 7, 10, 11, 16, 7, 8, 9, 11, 12, 13, 4, 11, 15, 8, 14, 5, 11, 10, 16, 8, 13, 9, 10, 13, 8, 8, 17, 15, 8, 14, 13, 12, 11, 6, 7, 10, 14, 9]\n",
      "[-9.998737572191063, -9.798966390187308, -9.599195208183554, -9.3994240261798, -9.199652844176045, -8.99988166217229, -8.800110480168534, -8.60033929816478, -8.400568116161026, -8.200796934157271, -8.001025752153517, -7.801254570149762, -7.601483388146008, -7.401712206142253, -7.201941024138499, -7.0021698421347445, -6.80239866013099, -6.602627478127236, -6.40285629612348, -6.203085114119726, -6.003313932115971, -5.803542750112217, -5.6037715681084626, -5.404000386104707, -5.204229204100953, -5.004458022097198, -4.804686840093444, -4.6049156580896895, -4.405144476085935, -4.20537329408218, -4.005602112078425, -3.805830930074671, -3.6060597480709164, -3.406288566067162, -3.2065173840634076, -3.006746202059653, -2.806975020055898, -2.6072038380521434, -2.407432656048389, -2.2076614740446345, -2.00789029204088, -1.8081191100371257, -1.6083479280333712, -1.4085767460296168, -1.2088055640258624, -1.0090343820221062, -0.8092632000183517, -0.6094920180145973, -0.40972083601084286, -0.20994965400708843, -0.010178472003333994, 0.18959271000042044, 0.38936389200417487, 0.5891350740079293, 0.7889062560116837, 0.9886774380154382, 1.1884486200191926, 1.388219802022947, 1.5879909840267032, 1.7877621660304577, 1.987533348034212, 2.1873045300379665, 2.387075712041721, 2.5868468940454754, 2.78661807604923, 2.9863892580529843, 3.1861604400567387, 3.385931622060493, 3.5857028040642476, 3.785473986068002, 3.9852451680717564, 4.185016350075513, 4.384787532079267, 4.5845587140830215, 4.784329896086776, 4.98410107809053, 5.183872260094285, 5.383643442098039, 5.583414624101794, 5.783185806105548, 5.9829569881093025, 6.182728170113057, 6.382499352116811, 6.582270534120566, 6.78204171612432, 6.981812898128075, 7.181584080131829, 7.381355262135584, 7.581126444139338, 7.780897626143092, 7.98066880814685, 8.180439990150605, 8.38021117215436, 8.579982354158114, 8.779753536161868, 8.979524718165623, 9.179295900169377, 9.379067082173131, 9.578838264176886, 9.77860944618064, 9.978380628184395]\n"
     ]
    }
   ],
   "source": [
    "# Test your solution here\n",
    "h,b=histogram(data,100)\n",
    "print(h)\n",
    "print(b)"
   ]
  },
  {
   "cell_type": "markdown",
   "metadata": {},
   "source": [
    "*Exercise 4:* Write a function that uses the histogram function in the previous exercise to create a text-based \"graph\". For example the output could look like the following:\n",
    "```\n",
    "[  0,  1] : ######\n",
    "[  1,  2] : #####\n",
    "[  2,  3] : ######\n",
    "[  3,  4] : ####\n",
    "[  4,  5] : ####\n",
    "[  5,  6] : ######\n",
    "[  6,  7] : #####\n",
    "[  7,  8] : ######\n",
    "[  8,  9] : ####\n",
    "[  9, 10] : #####\n",
    "```\n",
    "\n",
    "Where each line corresponds to a bin and the number of `#`'s are proportional to the value of the data in the bin. "
   ]
  },
  {
   "cell_type": "code",
   "execution_count": 10,
   "metadata": {},
   "outputs": [],
   "source": [
    "# Solution\n",
    "def draw_histogram(x,n_bins,x_min=None,x_max=None,character=\"#\",max_character_per_line=20):\n",
    "    ### BEGIN SOLUTION\n",
    "\n",
    "    hist, bin_edges = histogram(x,n_bins,x_min,x_max) #get our histogram info\n",
    "    \n",
    "    for i in range(n_bins):\n",
    "        start = bin_edges[i]\n",
    "        end = bin_edges[i+1]\n",
    "        counter = hist[i]\n",
    "\n",
    "    \n",
    "        length = int(round((counter / max(hist)) * max_character_per_line)) #gives int for the bar lengths\n",
    "\n",
    "\n",
    "        bar_lines = character * length #create the # bar lines\n",
    "        print(f\"[{start}, {end}): {bar_lines}\")\n",
    "\n",
    "    #print(\"END\") testing\n",
    "    ### END SOLUTION\n",
    "    return hist,bin_edges"
   ]
  },
  {
   "cell_type": "code",
   "execution_count": 11,
   "metadata": {},
   "outputs": [
    {
     "name": "stdout",
     "output_type": "stream",
     "text": [
      "[-9.998737572191063, -8.99988166217229): ####################\n",
      "[-8.99988166217229, -8.001025752153517): ##############\n",
      "[-8.001025752153517, -7.0021698421347445): ####################\n",
      "[-7.0021698421347445, -6.003313932115971): ################\n",
      "[-6.003313932115971, -5.004458022097198): ###############\n",
      "[-5.004458022097198, -4.005602112078426): ##############\n",
      "[-4.005602112078426, -3.006746202059653): #############\n",
      "[-3.006746202059653, -2.00789029204088): ###############\n",
      "[-2.00789029204088, -1.009034382022108): ###############\n",
      "[-1.009034382022108, -0.010178472003333994): ################\n",
      "[-0.010178472003333994, 0.9886774380154382): #################\n",
      "[0.9886774380154382, 1.9875333480342103): #############\n",
      "[1.9875333480342103, 2.9863892580529843): ###############\n",
      "[2.9863892580529843, 3.9852451680717564): #################\n",
      "[3.9852451680717564, 4.98410107809053): ##################\n",
      "[4.98410107809053, 5.9829569881093025): ################\n",
      "[5.9829569881093025, 6.981812898128075): ##################\n",
      "[6.981812898128075, 7.980668808146847): ####################\n",
      "[7.980668808146847, 8.979524718165623): ###################\n",
      "[8.979524718165623, 9.978380628184395): ###############\n"
     ]
    },
    {
     "data": {
      "text/plain": [
       "([61,\n",
       "  44,\n",
       "  60,\n",
       "  50,\n",
       "  46,\n",
       "  44,\n",
       "  40,\n",
       "  46,\n",
       "  46,\n",
       "  50,\n",
       "  51,\n",
       "  40,\n",
       "  47,\n",
       "  51,\n",
       "  55,\n",
       "  48,\n",
       "  56,\n",
       "  61,\n",
       "  58,\n",
       "  46],\n",
       " [-9.998737572191063,\n",
       "  -8.99988166217229,\n",
       "  -8.001025752153517,\n",
       "  -7.0021698421347445,\n",
       "  -6.003313932115971,\n",
       "  -5.004458022097198,\n",
       "  -4.005602112078426,\n",
       "  -3.006746202059653,\n",
       "  -2.00789029204088,\n",
       "  -1.009034382022108,\n",
       "  -0.010178472003333994,\n",
       "  0.9886774380154382,\n",
       "  1.9875333480342103,\n",
       "  2.9863892580529843,\n",
       "  3.9852451680717564,\n",
       "  4.98410107809053,\n",
       "  5.9829569881093025,\n",
       "  6.981812898128075,\n",
       "  7.980668808146847,\n",
       "  8.979524718165623,\n",
       "  9.978380628184395])"
      ]
     },
     "execution_count": 11,
     "metadata": {},
     "output_type": "execute_result"
    }
   ],
   "source": [
    "# Test your solution here\n",
    "h,b=histogram(data,20)\n",
    "draw_histogram(data, 20)"
   ]
  },
  {
   "cell_type": "markdown",
   "metadata": {},
   "source": [
    "## Functional Programming\n",
    "\n",
    "*Exercise 5:* Write a function the applies a booling function (that returns true/false) to every element in data, and return a list of indices of elements where the result was true. Use this function to find the indices of entries greater than 0.5. "
   ]
  },
  {
   "cell_type": "code",
   "execution_count": 12,
   "metadata": {},
   "outputs": [],
   "source": [
    "def where(mylist,myfunc):\n",
    "    out= []\n",
    "    \n",
    "    ### BEGIN SOLUTION\n",
    "    #for i in myList: #only gives the number\n",
    "            \n",
    "    for i in range(len(mylist)):  # i is index\n",
    "        num = mylist[i]   #gives number at the position i\n",
    "        if myfunc(num): #if true from fuction\n",
    "            out.append(i) #add index\n",
    "    \n",
    "    ### END SOLUTION\n",
    "    \n",
    "    return out"
   ]
  },
  {
   "cell_type": "code",
   "execution_count": 13,
   "metadata": {},
   "outputs": [
    {
     "name": "stdout",
     "output_type": "stream",
     "text": [
      "index with number > .5: [0, 2, 3, 6, 8, 9, 11, 13, 15, 16, 20, 21, 22, 25, 27, 28, 31, 32, 34, 35, 37, 42, 43, 47, 49, 51, 52, 55, 56, 58, 59, 60, 61, 65, 66, 70, 72, 74, 75, 76, 80, 82, 83, 87, 88, 90, 91, 92, 93, 98, 100, 101, 104, 105, 107, 108, 111, 113, 114, 115, 116, 118, 119, 120, 121, 122, 123, 124, 125, 126, 130, 131, 132, 135, 138, 139, 140, 142, 144, 147, 149, 152, 154, 155, 156, 160, 161, 162, 163, 166, 167, 169, 170, 172, 174, 175, 177, 179, 181, 187, 189, 190, 193, 196, 197, 200, 204, 208, 209, 213, 215, 216, 217, 218, 220, 222, 223, 224, 230, 232, 235, 238, 240, 242, 243, 244, 246, 247, 248, 249, 250, 252, 254, 257, 258, 261, 271, 274, 275, 277, 278, 280, 281, 289, 291, 292, 294, 296, 298, 299, 300, 302, 303, 304, 305, 307, 308, 309, 310, 312, 314, 315, 316, 318, 321, 323, 327, 329, 339, 340, 343, 346, 347, 349, 352, 353, 356, 359, 360, 361, 363, 365, 368, 370, 372, 373, 374, 377, 378, 379, 381, 382, 383, 384, 388, 390, 392, 393, 394, 400, 401, 404, 405, 406, 407, 410, 412, 413, 414, 415, 417, 418, 423, 424, 425, 429, 430, 431, 434, 436, 437, 440, 441, 442, 445, 448, 450, 452, 455, 458, 462, 463, 467, 469, 471, 472, 473, 474, 477, 480, 482, 483, 485, 487, 488, 489, 490, 492, 493, 495, 502, 504, 505, 507, 508, 510, 511, 516, 521, 523, 524, 526, 527, 529, 530, 533, 536, 538, 542, 548, 551, 553, 556, 558, 559, 560, 561, 562, 563, 564, 565, 566, 567, 570, 574, 575, 576, 578, 580, 583, 585, 592, 594, 595, 604, 606, 614, 616, 623, 624, 625, 626, 629, 630, 631, 633, 634, 635, 639, 641, 644, 648, 650, 651, 652, 653, 656, 658, 659, 661, 664, 665, 666, 671, 675, 676, 677, 678, 689, 690, 691, 692, 696, 698, 699, 700, 702, 703, 704, 705, 706, 707, 708, 713, 714, 718, 719, 722, 724, 733, 734, 735, 736, 740, 742, 745, 748, 751, 753, 754, 756, 757, 758, 759, 760, 761, 763, 764, 765, 767, 768, 769, 771, 772, 774, 775, 776, 777, 779, 780, 781, 782, 787, 790, 793, 795, 800, 802, 804, 805, 806, 807, 808, 809, 810, 812, 813, 814, 815, 816, 817, 819, 821, 822, 826, 830, 838, 841, 843, 847, 849, 851, 852, 854, 857, 858, 860, 861, 862, 870, 871, 872, 874, 875, 876, 877, 878, 880, 882, 883, 884, 887, 888, 891, 893, 894, 897, 898, 900, 902, 903, 909, 911, 916, 919, 928, 929, 930, 931, 932, 934, 940, 941, 942, 943, 944, 946, 947, 948, 949, 950, 951, 952, 953, 954, 957, 958, 959, 961, 962, 963, 964, 965, 968, 973, 975, 976, 980, 981, 982, 983, 984, 986, 988, 995, 998, 999]\n",
      "index with number > .5: [1, 3]\n"
     ]
    }
   ],
   "source": [
    "# Test your solution here\n",
    "data2 = [.2, 7, -5, 77]\n",
    "def bigger(num): #number greater than .5\n",
    "    if num > .5:\n",
    "        return True\n",
    "    else:\n",
    "        return False\n",
    "\n",
    "p1 = where(data, bigger)\n",
    "print(\"index with number > .5:\", p1)\n",
    "\n",
    "p2 = where(data2, bigger)\n",
    "print(\"index with number > .5:\", p2)\n"
   ]
  },
  {
   "cell_type": "markdown",
   "metadata": {},
   "source": [
    "*Exercise 6:* The `inrange(mymin,mymax)` function below returns a function that tests if it's input is between the specified values. Write corresponding functions that test:\n",
    "* Even\n",
    "* Odd\n",
    "* Greater than\n",
    "* Less than\n",
    "* Equal\n",
    "* Divisible by"
   ]
  },
  {
   "cell_type": "code",
   "execution_count": 14,
   "metadata": {},
   "outputs": [
    {
     "name": "stdout",
     "output_type": "stream",
     "text": [
      "True True False False False\n",
      "False False True True False\n",
      "Number of Entries passing F1: 512\n",
      "Number of Entries passing F2: 0\n"
     ]
    }
   ],
   "source": [
    "def in_range(mymin,mymax):\n",
    "    def testrange(x):\n",
    "        return x<mymax and x>=mymin\n",
    "    return testrange\n",
    "\n",
    "# Examples:\n",
    "F1=in_range(0,10)\n",
    "F2=in_range(10,20)\n",
    "\n",
    "# Test of in_range\n",
    "print (F1(0), F1(1), F1(10), F1(15), F1(20))\n",
    "print (F2(0), F2(1), F2(10), F2(15), F2(20))\n",
    "\n",
    "print (\"Number of Entries passing F1:\", len(where(data,F1)))\n",
    "print (\"Number of Entries passing F2:\", len(where(data,F2)))"
   ]
  },
  {
   "cell_type": "code",
   "execution_count": 15,
   "metadata": {},
   "outputs": [],
   "source": [
    "### BEGIN SOLUTION\n",
    "\n",
    "def Even(x):\n",
    "    x=int(x)\n",
    "    if (x%2)==0: #gives 0 if number is even\n",
    "        return True\n",
    "    else:\n",
    "        return False\n",
    "      \n",
    "def Odd(x):\n",
    "    x=int(x)\n",
    "    if (x%2)!=0: #gives a remainder if number is odd\n",
    "        return True\n",
    "    else:\n",
    "        return False\n",
    "    \n",
    "def Greater(x):\n",
    "    def bigger(y):\n",
    "        return y > x #return true or false\n",
    "    return bigger #function is returned\n",
    "\n",
    "def Smaller(x):\n",
    "    def less(y):\n",
    "        return y < x #return true or false\n",
    "    return less #function is returned\n",
    "\n",
    "def Equal(x):\n",
    "    def same(y): #return true if same\n",
    "        return x == y\n",
    "    return same #return function\n",
    "\n",
    "def Divisible_by(x):\n",
    "    def divide(y):\n",
    "        y = int(y) #needed to do mod division\n",
    "        return y % x == 0 #checks to return true or false\n",
    "    return divide\n",
    "\n",
    "### END SOLUTION"
   ]
  },
  {
   "cell_type": "code",
   "execution_count": 17,
   "metadata": {},
   "outputs": [
    {
     "name": "stdout",
     "output_type": "stream",
     "text": [
      "even? True\n",
      "odd? False\n",
      "20 > 9? True\n",
      "20 < 6? False\n",
      "9=7? False\n",
      "8/4? True\n"
     ]
    }
   ],
   "source": [
    "# Test your solution\n",
    "\n",
    "print(\"even?\", Even(100))\n",
    "\n",
    "print(\"odd?\", Odd(88))\n",
    "\n",
    "greater_test = Greater(9) #give values for both nested functions\n",
    "print(\"20 > 9?\", greater_test(20))\n",
    "\n",
    "less_test = Smaller(6)\n",
    "print(\"20 < 6?\", less_test(20))\n",
    "\n",
    "equal_test = Equal(7)\n",
    "print(\"9=7?\", equal_test(9))\n",
    "\n",
    "divide_test = Divisible_by(4)\n",
    "print(\"8/4?\", divide_test(8))\n"
   ]
  },
  {
   "cell_type": "markdown",
   "metadata": {},
   "source": [
    "*Exercise 7:* Repeat the previous exercise using `lambda` and the built-in python functions sum and map instead of your solution above. "
   ]
  },
  {
   "cell_type": "code",
   "execution_count": 23,
   "metadata": {},
   "outputs": [
    {
     "name": "stdout",
     "output_type": "stream",
     "text": [
      "even? True\n",
      "odd? False\n",
      "20 > 9? True\n",
      "20 < 6? False\n",
      "9=7? False\n",
      "8/4? True\n"
     ]
    }
   ],
   "source": [
    "### BEGIN SOLUTION\n",
    "\n",
    "Even2 = lambda x: int(x) % 2 == 0 #x is the input for lambda\n",
    "Odd2 = lambda x: int(x) % 2 != 0\n",
    "Greater2 = lambda x: lambda y: y > x #my 2 inputs for lambda, boolean result\n",
    "Smaller2 = lambda x: lambda y: y < x\n",
    "Equal2 = lambda x: lambda y: x == y \n",
    "Divisible_by2 = lambda x: lambda y: int(y) % x == 0 #x divides because we check if its a good divisor\n",
    "\n",
    "    \n",
    "### END SOLUTION\n",
    "\n",
    "#Test\n",
    "\n",
    "print(\"even?\", Even2(100))\n",
    "\n",
    "print(\"odd?\", Odd2(88))\n",
    "\n",
    "greater_test = Greater2(9) #give values for both variables just like the nested functions\n",
    "print(\"20 > 9?\", greater_test(20))\n",
    "\n",
    "less_test = Smaller2(6)\n",
    "print(\"20 < 6?\", less_test(20))\n",
    "\n",
    "equal_test = Equal2(7)\n",
    "print(\"9=7?\", equal_test(9))\n",
    "\n",
    "divide_test = Divisible_by2(4)\n",
    "print(\"8/4?\", divide_test(8))"
   ]
  },
  {
   "cell_type": "markdown",
   "metadata": {},
   "source": [
    "## Monte Carlo\n",
    "\n",
    "*Exercise 7:* Write a \"generator\" function called `generate_function(func,x_min,x_max,N)`, that instead of generating a flat distribution, generates a distribution with functional form coded in `func`. Note that `func` will always be > 0.  \n",
    "\n",
    "Use the test function below and your histogramming functions above to demonstrate that your generator is working properly.\n",
    "\n",
    "Hint: A simple, but slow, solution is to a draw random number `test_x` within the specified range and another number `p` between the `min` and `max` of the function (which you will have to determine). If `p<=function(test_x)`, then place `test_x` on the output. If not, repeat the process, drawing two new numbers. Repeat until you have the specified number of generated numbers, `N`. For this problem, it's OK to determine the `min` and `max` by numerically sampling the function.  "
   ]
  },
  {
   "cell_type": "code",
   "execution_count": 44,
   "metadata": {},
   "outputs": [],
   "source": [
    "def generate_function(func,x_min,x_max,N=1000): #func \n",
    "    out = list()\n",
    "    \n",
    "    ### BEGIN SOLUTION\n",
    "    \n",
    "\n",
    "    nums = []\n",
    "    nums2=[]\n",
    "    for i in range(N):\n",
    "        #print(\"333\")\n",
    "        \n",
    "        x = x_min + (x_max - x_min) * random.random()\n",
    "        nums.append(x)\n",
    "\n",
    "    for j in nums:\n",
    "        k = func(j)\n",
    "        nums2.append(k)\n",
    "\n",
    "    min2 = nums2[0] #get our min\n",
    "    for l in nums2: \n",
    "        if l < min2:\n",
    "            min2 = l\n",
    "\n",
    "            \n",
    "    max2 = nums2[0] #look for the max\n",
    "    for a in nums2: \n",
    "        #print(\"333\")\n",
    "        \n",
    "        if a > max2:\n",
    "            max2 = a\n",
    "\n",
    "\n",
    "            \n",
    "    while len(out) < N:\n",
    "        #print(\"333\")\n",
    "        new_num = x_min + (x_max - x_min) * random.random()\n",
    "        \n",
    "        new_num2 = min2 + (max2 - min2) * random.random()\n",
    "\n",
    "        if new_num2 <= func(new_num):\n",
    "            out.append(new_num)\n",
    "\n",
    "    \n",
    "    ### END SOLUTION\n",
    "    \n",
    "    return out"
   ]
  },
  {
   "cell_type": "code",
   "execution_count": 45,
   "metadata": {},
   "outputs": [],
   "source": [
    "# A test function\n",
    "def test_func(x,a=1,b=1):\n",
    "    return abs(a*x+b)\n",
    "\n",
    "\n",
    "x_min = 3\n",
    "x_max = 784\n",
    "N = 1000  #N already has defaut valule\n",
    "\n",
    "generated_data = generate_function(test_func, x_min, x_max, N)\n"
   ]
  },
  {
   "cell_type": "markdown",
   "metadata": {},
   "source": [
    "*Exercise 8:* Use your function to generate 1000 numbers that are normal distributed, using the `gaussian` function below. Confirm the mean and variance of the data is close to the mean and variance you specify when building the Gaussian. Histogram the data. "
   ]
  },
  {
   "cell_type": "code",
   "execution_count": null,
   "metadata": {},
   "outputs": [],
   "source": [
    "import math\n",
    "\n",
    "def gaussian(mean, sigma):\n",
    "    def f(x):\n",
    "        return math.exp(-((x-mean)**2)/(2*sigma**2))/math.sqrt(math.pi*sigma)\n",
    "    return f\n",
    "\n",
    "# Example Instantiation\n",
    "g1=gaussian(0,1)\n",
    "g2=gaussian(10,3)"
   ]
  },
  {
   "cell_type": "markdown",
   "metadata": {},
   "source": [
    "*Exercise 9:* Combine your `generate_function`, `where`, and `in_range` functions above to create an integrate function. Use your integrate function to show that approximately 68% of Normal distribution is within one variance."
   ]
  },
  {
   "cell_type": "code",
   "execution_count": null,
   "metadata": {},
   "outputs": [],
   "source": [
    "def integrate(func, x_min, x_max, n_points=1000):\n",
    "    \n",
    "    return integral"
   ]
  },
  {
   "cell_type": "code",
   "execution_count": null,
   "metadata": {},
   "outputs": [],
   "source": []
  }
 ],
 "metadata": {
  "kernelspec": {
   "display_name": "Python 3 (ipykernel)",
   "language": "python",
   "name": "python3"
  },
  "language_info": {
   "codemirror_mode": {
    "name": "ipython",
    "version": 3
   },
   "file_extension": ".py",
   "mimetype": "text/x-python",
   "name": "python",
   "nbconvert_exporter": "python",
   "pygments_lexer": "ipython3",
   "version": "3.12.3"
  }
 },
 "nbformat": 4,
 "nbformat_minor": 2
}
